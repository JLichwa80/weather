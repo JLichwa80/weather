{
 "cells": [
  {
   "cell_type": "markdown",
   "id": "feb020d4-405c-46b9-b9aa-5d8115646228",
   "metadata": {
    "panel-layout": {
     "height": 50.8125,
     "visible": true,
     "width": 100
    }
   },
   "source": [
    "# Weather Project - Rain Precipitation between Seattle and Honolulu - Data Preparation"
   ]
  },
  {
   "cell_type": "markdown",
   "id": "faac13b6",
   "metadata": {
    "panel-layout": {
     "height": 51.13541793823242,
     "visible": true,
     "width": 100
    }
   },
   "source": [
    "## Import Libraries"
   ]
  },
  {
   "cell_type": "code",
   "execution_count": 2,
   "id": "35840f42-5dcd-49fa-97b5-b4a0bfcf7f42",
   "metadata": {
    "panel-layout": {
     "height": 0,
     "visible": true,
     "width": 100
    }
   },
   "outputs": [],
   "source": [
    "# Import pandas, numpy, and matplotlib\n",
    "import pandas as pd\n",
    "import numpy as np\n",
    "import matplotlib.pyplot as plt\n",
    "\n",
    "# seaborn is a data visualization library built on matplotlib\n",
    "import seaborn as sns\n",
    "\n",
    "# set the plotting style\n",
    "sns.set_style(\"whitegrid\")"
   ]
  },
  {
   "cell_type": "markdown",
   "id": "a89e6c78-c76e-41ca-b828-8fa2d12347a3",
   "metadata": {},
   "source": [
    "## Load the data"
   ]
  },
  {
   "cell_type": "markdown",
   "id": "5a274391-03d0-44b7-825f-31c8548dfcc2",
   "metadata": {},
   "source": [
    "### Seattle"
   ]
  },
  {
   "cell_type": "code",
   "execution_count": 3,
   "id": "1d5f5587-781d-41d6-9e01-b1eb1d35f892",
   "metadata": {},
   "outputs": [],
   "source": [
    "df_seattle = pd.read_csv('https://raw.githubusercontent.com/JLichwa80/weather/refs/heads/main/data/seattle_rain.csv')"
   ]
  },
  {
   "cell_type": "code",
   "execution_count": 4,
   "id": "bc4fdcba-0a24-418f-96d0-b893c161325b",
   "metadata": {},
   "outputs": [
    {
     "data": {
      "text/html": [
       "<div>\n",
       "<style scoped>\n",
       "    .dataframe tbody tr th:only-of-type {\n",
       "        vertical-align: middle;\n",
       "    }\n",
       "\n",
       "    .dataframe tbody tr th {\n",
       "        vertical-align: top;\n",
       "    }\n",
       "\n",
       "    .dataframe thead th {\n",
       "        text-align: right;\n",
       "    }\n",
       "</style>\n",
       "<table border=\"1\" class=\"dataframe\">\n",
       "  <thead>\n",
       "    <tr style=\"text-align: right;\">\n",
       "      <th></th>\n",
       "      <th>STATION</th>\n",
       "      <th>NAME</th>\n",
       "      <th>DATE</th>\n",
       "      <th>DAPR</th>\n",
       "      <th>MDPR</th>\n",
       "      <th>PRCP</th>\n",
       "      <th>SNOW</th>\n",
       "      <th>SNWD</th>\n",
       "      <th>WESD</th>\n",
       "      <th>WESF</th>\n",
       "    </tr>\n",
       "  </thead>\n",
       "  <tbody>\n",
       "    <tr>\n",
       "      <th>0</th>\n",
       "      <td>US1WAKG0225</td>\n",
       "      <td>SEATTLE 2.1 ESE, WA US</td>\n",
       "      <td>1/1/18</td>\n",
       "      <td>NaN</td>\n",
       "      <td>NaN</td>\n",
       "      <td>0.00</td>\n",
       "      <td>NaN</td>\n",
       "      <td>NaN</td>\n",
       "      <td>NaN</td>\n",
       "      <td>NaN</td>\n",
       "    </tr>\n",
       "    <tr>\n",
       "      <th>1</th>\n",
       "      <td>US1WAKG0225</td>\n",
       "      <td>SEATTLE 2.1 ESE, WA US</td>\n",
       "      <td>1/2/18</td>\n",
       "      <td>NaN</td>\n",
       "      <td>NaN</td>\n",
       "      <td>0.00</td>\n",
       "      <td>NaN</td>\n",
       "      <td>NaN</td>\n",
       "      <td>NaN</td>\n",
       "      <td>NaN</td>\n",
       "    </tr>\n",
       "    <tr>\n",
       "      <th>2</th>\n",
       "      <td>US1WAKG0225</td>\n",
       "      <td>SEATTLE 2.1 ESE, WA US</td>\n",
       "      <td>1/3/18</td>\n",
       "      <td>NaN</td>\n",
       "      <td>NaN</td>\n",
       "      <td>0.00</td>\n",
       "      <td>NaN</td>\n",
       "      <td>NaN</td>\n",
       "      <td>NaN</td>\n",
       "      <td>NaN</td>\n",
       "    </tr>\n",
       "    <tr>\n",
       "      <th>3</th>\n",
       "      <td>US1WAKG0225</td>\n",
       "      <td>SEATTLE 2.1 ESE, WA US</td>\n",
       "      <td>1/4/18</td>\n",
       "      <td>NaN</td>\n",
       "      <td>NaN</td>\n",
       "      <td>0.00</td>\n",
       "      <td>NaN</td>\n",
       "      <td>NaN</td>\n",
       "      <td>NaN</td>\n",
       "      <td>NaN</td>\n",
       "    </tr>\n",
       "    <tr>\n",
       "      <th>4</th>\n",
       "      <td>US1WAKG0225</td>\n",
       "      <td>SEATTLE 2.1 ESE, WA US</td>\n",
       "      <td>1/5/18</td>\n",
       "      <td>NaN</td>\n",
       "      <td>NaN</td>\n",
       "      <td>0.25</td>\n",
       "      <td>NaN</td>\n",
       "      <td>NaN</td>\n",
       "      <td>NaN</td>\n",
       "      <td>NaN</td>\n",
       "    </tr>\n",
       "  </tbody>\n",
       "</table>\n",
       "</div>"
      ],
      "text/plain": [
       "       STATION                    NAME    DATE  DAPR  MDPR  PRCP  SNOW  SNWD  \\\n",
       "0  US1WAKG0225  SEATTLE 2.1 ESE, WA US  1/1/18   NaN   NaN  0.00   NaN   NaN   \n",
       "1  US1WAKG0225  SEATTLE 2.1 ESE, WA US  1/2/18   NaN   NaN  0.00   NaN   NaN   \n",
       "2  US1WAKG0225  SEATTLE 2.1 ESE, WA US  1/3/18   NaN   NaN  0.00   NaN   NaN   \n",
       "3  US1WAKG0225  SEATTLE 2.1 ESE, WA US  1/4/18   NaN   NaN  0.00   NaN   NaN   \n",
       "4  US1WAKG0225  SEATTLE 2.1 ESE, WA US  1/5/18   NaN   NaN  0.25   NaN   NaN   \n",
       "\n",
       "   WESD  WESF  \n",
       "0   NaN   NaN  \n",
       "1   NaN   NaN  \n",
       "2   NaN   NaN  \n",
       "3   NaN   NaN  \n",
       "4   NaN   NaN  "
      ]
     },
     "execution_count": 4,
     "metadata": {},
     "output_type": "execute_result"
    }
   ],
   "source": [
    "df_seattle.head()"
   ]
  },
  {
   "cell_type": "markdown",
   "id": "79d5808d-28bb-48ac-8cb8-dfbf028faa48",
   "metadata": {},
   "source": [
    "Reduce columns to Station, Name, Date and PRCP"
   ]
  },
  {
   "cell_type": "code",
   "execution_count": 5,
   "id": "2dfe0eb2-3b81-4175-9309-e17709b79554",
   "metadata": {},
   "outputs": [
    {
     "data": {
      "text/html": [
       "<div>\n",
       "<style scoped>\n",
       "    .dataframe tbody tr th:only-of-type {\n",
       "        vertical-align: middle;\n",
       "    }\n",
       "\n",
       "    .dataframe tbody tr th {\n",
       "        vertical-align: top;\n",
       "    }\n",
       "\n",
       "    .dataframe thead th {\n",
       "        text-align: right;\n",
       "    }\n",
       "</style>\n",
       "<table border=\"1\" class=\"dataframe\">\n",
       "  <thead>\n",
       "    <tr style=\"text-align: right;\">\n",
       "      <th></th>\n",
       "      <th>STATION</th>\n",
       "      <th>NAME</th>\n",
       "      <th>DATE</th>\n",
       "      <th>PRCP</th>\n",
       "    </tr>\n",
       "  </thead>\n",
       "  <tbody>\n",
       "    <tr>\n",
       "      <th>0</th>\n",
       "      <td>US1WAKG0225</td>\n",
       "      <td>SEATTLE 2.1 ESE, WA US</td>\n",
       "      <td>1/1/18</td>\n",
       "      <td>0.00</td>\n",
       "    </tr>\n",
       "    <tr>\n",
       "      <th>1</th>\n",
       "      <td>US1WAKG0225</td>\n",
       "      <td>SEATTLE 2.1 ESE, WA US</td>\n",
       "      <td>1/2/18</td>\n",
       "      <td>0.00</td>\n",
       "    </tr>\n",
       "    <tr>\n",
       "      <th>2</th>\n",
       "      <td>US1WAKG0225</td>\n",
       "      <td>SEATTLE 2.1 ESE, WA US</td>\n",
       "      <td>1/3/18</td>\n",
       "      <td>0.00</td>\n",
       "    </tr>\n",
       "    <tr>\n",
       "      <th>3</th>\n",
       "      <td>US1WAKG0225</td>\n",
       "      <td>SEATTLE 2.1 ESE, WA US</td>\n",
       "      <td>1/4/18</td>\n",
       "      <td>0.00</td>\n",
       "    </tr>\n",
       "    <tr>\n",
       "      <th>4</th>\n",
       "      <td>US1WAKG0225</td>\n",
       "      <td>SEATTLE 2.1 ESE, WA US</td>\n",
       "      <td>1/5/18</td>\n",
       "      <td>0.25</td>\n",
       "    </tr>\n",
       "  </tbody>\n",
       "</table>\n",
       "</div>"
      ],
      "text/plain": [
       "       STATION                    NAME    DATE  PRCP\n",
       "0  US1WAKG0225  SEATTLE 2.1 ESE, WA US  1/1/18  0.00\n",
       "1  US1WAKG0225  SEATTLE 2.1 ESE, WA US  1/2/18  0.00\n",
       "2  US1WAKG0225  SEATTLE 2.1 ESE, WA US  1/3/18  0.00\n",
       "3  US1WAKG0225  SEATTLE 2.1 ESE, WA US  1/4/18  0.00\n",
       "4  US1WAKG0225  SEATTLE 2.1 ESE, WA US  1/5/18  0.25"
      ]
     },
     "execution_count": 5,
     "metadata": {},
     "output_type": "execute_result"
    }
   ],
   "source": [
    "df_seattle = df_seattle[['STATION','NAME','DATE','PRCP']]\n",
    "df_seattle.head()"
   ]
  },
  {
   "cell_type": "markdown",
   "id": "04380a98-e062-4d38-880b-28d8898becf7",
   "metadata": {},
   "source": [
    "### Honolulu"
   ]
  },
  {
   "cell_type": "code",
   "execution_count": 6,
   "id": "a2884e4f-79a6-4075-866a-65ecadb44291",
   "metadata": {},
   "outputs": [],
   "source": [
    "df_honolulu = pd.read_csv('https://raw.githubusercontent.com/JLichwa80/weather/refs/heads/main/data/hnl_rain.csv')"
   ]
  },
  {
   "cell_type": "code",
   "execution_count": 7,
   "id": "2ea7851d-5fbf-49d1-a8d0-64c95256672a",
   "metadata": {},
   "outputs": [
    {
     "data": {
      "text/html": [
       "<div>\n",
       "<style scoped>\n",
       "    .dataframe tbody tr th:only-of-type {\n",
       "        vertical-align: middle;\n",
       "    }\n",
       "\n",
       "    .dataframe tbody tr th {\n",
       "        vertical-align: top;\n",
       "    }\n",
       "\n",
       "    .dataframe thead th {\n",
       "        text-align: right;\n",
       "    }\n",
       "</style>\n",
       "<table border=\"1\" class=\"dataframe\">\n",
       "  <thead>\n",
       "    <tr style=\"text-align: right;\">\n",
       "      <th></th>\n",
       "      <th>STATION</th>\n",
       "      <th>NAME</th>\n",
       "      <th>DATE</th>\n",
       "      <th>PRCP</th>\n",
       "    </tr>\n",
       "  </thead>\n",
       "  <tbody>\n",
       "    <tr>\n",
       "      <th>0</th>\n",
       "      <td>USW00022521</td>\n",
       "      <td>HONOLULU INTERNATIONAL AIRPORT, HI US</td>\n",
       "      <td>2018-01-01</td>\n",
       "      <td>0.0</td>\n",
       "    </tr>\n",
       "    <tr>\n",
       "      <th>1</th>\n",
       "      <td>USW00022521</td>\n",
       "      <td>HONOLULU INTERNATIONAL AIRPORT, HI US</td>\n",
       "      <td>2018-01-02</td>\n",
       "      <td>0.0</td>\n",
       "    </tr>\n",
       "    <tr>\n",
       "      <th>2</th>\n",
       "      <td>USW00022521</td>\n",
       "      <td>HONOLULU INTERNATIONAL AIRPORT, HI US</td>\n",
       "      <td>2018-01-03</td>\n",
       "      <td>0.0</td>\n",
       "    </tr>\n",
       "    <tr>\n",
       "      <th>3</th>\n",
       "      <td>USW00022521</td>\n",
       "      <td>HONOLULU INTERNATIONAL AIRPORT, HI US</td>\n",
       "      <td>2018-01-04</td>\n",
       "      <td>0.0</td>\n",
       "    </tr>\n",
       "    <tr>\n",
       "      <th>4</th>\n",
       "      <td>USW00022521</td>\n",
       "      <td>HONOLULU INTERNATIONAL AIRPORT, HI US</td>\n",
       "      <td>2018-01-05</td>\n",
       "      <td>0.0</td>\n",
       "    </tr>\n",
       "  </tbody>\n",
       "</table>\n",
       "</div>"
      ],
      "text/plain": [
       "       STATION                                   NAME        DATE  PRCP\n",
       "0  USW00022521  HONOLULU INTERNATIONAL AIRPORT, HI US  2018-01-01   0.0\n",
       "1  USW00022521  HONOLULU INTERNATIONAL AIRPORT, HI US  2018-01-02   0.0\n",
       "2  USW00022521  HONOLULU INTERNATIONAL AIRPORT, HI US  2018-01-03   0.0\n",
       "3  USW00022521  HONOLULU INTERNATIONAL AIRPORT, HI US  2018-01-04   0.0\n",
       "4  USW00022521  HONOLULU INTERNATIONAL AIRPORT, HI US  2018-01-05   0.0"
      ]
     },
     "execution_count": 7,
     "metadata": {},
     "output_type": "execute_result"
    }
   ],
   "source": [
    "df_honolulu.head()"
   ]
  },
  {
   "cell_type": "markdown",
   "id": "d763f3a4-6123-451e-ae19-2ba1431281dc",
   "metadata": {},
   "source": [
    "Reduce columns to Station, Name, Date and PRCP"
   ]
  },
  {
   "cell_type": "code",
   "execution_count": 8,
   "id": "568c21b5-f6a7-4736-9d51-78690a750fd8",
   "metadata": {},
   "outputs": [
    {
     "data": {
      "text/html": [
       "<div>\n",
       "<style scoped>\n",
       "    .dataframe tbody tr th:only-of-type {\n",
       "        vertical-align: middle;\n",
       "    }\n",
       "\n",
       "    .dataframe tbody tr th {\n",
       "        vertical-align: top;\n",
       "    }\n",
       "\n",
       "    .dataframe thead th {\n",
       "        text-align: right;\n",
       "    }\n",
       "</style>\n",
       "<table border=\"1\" class=\"dataframe\">\n",
       "  <thead>\n",
       "    <tr style=\"text-align: right;\">\n",
       "      <th></th>\n",
       "      <th>STATION</th>\n",
       "      <th>NAME</th>\n",
       "      <th>DATE</th>\n",
       "      <th>PRCP</th>\n",
       "    </tr>\n",
       "  </thead>\n",
       "  <tbody>\n",
       "    <tr>\n",
       "      <th>0</th>\n",
       "      <td>USW00022521</td>\n",
       "      <td>HONOLULU INTERNATIONAL AIRPORT, HI US</td>\n",
       "      <td>2018-01-01</td>\n",
       "      <td>0.0</td>\n",
       "    </tr>\n",
       "    <tr>\n",
       "      <th>1</th>\n",
       "      <td>USW00022521</td>\n",
       "      <td>HONOLULU INTERNATIONAL AIRPORT, HI US</td>\n",
       "      <td>2018-01-02</td>\n",
       "      <td>0.0</td>\n",
       "    </tr>\n",
       "    <tr>\n",
       "      <th>2</th>\n",
       "      <td>USW00022521</td>\n",
       "      <td>HONOLULU INTERNATIONAL AIRPORT, HI US</td>\n",
       "      <td>2018-01-03</td>\n",
       "      <td>0.0</td>\n",
       "    </tr>\n",
       "    <tr>\n",
       "      <th>3</th>\n",
       "      <td>USW00022521</td>\n",
       "      <td>HONOLULU INTERNATIONAL AIRPORT, HI US</td>\n",
       "      <td>2018-01-04</td>\n",
       "      <td>0.0</td>\n",
       "    </tr>\n",
       "    <tr>\n",
       "      <th>4</th>\n",
       "      <td>USW00022521</td>\n",
       "      <td>HONOLULU INTERNATIONAL AIRPORT, HI US</td>\n",
       "      <td>2018-01-05</td>\n",
       "      <td>0.0</td>\n",
       "    </tr>\n",
       "  </tbody>\n",
       "</table>\n",
       "</div>"
      ],
      "text/plain": [
       "       STATION                                   NAME        DATE  PRCP\n",
       "0  USW00022521  HONOLULU INTERNATIONAL AIRPORT, HI US  2018-01-01   0.0\n",
       "1  USW00022521  HONOLULU INTERNATIONAL AIRPORT, HI US  2018-01-02   0.0\n",
       "2  USW00022521  HONOLULU INTERNATIONAL AIRPORT, HI US  2018-01-03   0.0\n",
       "3  USW00022521  HONOLULU INTERNATIONAL AIRPORT, HI US  2018-01-04   0.0\n",
       "4  USW00022521  HONOLULU INTERNATIONAL AIRPORT, HI US  2018-01-05   0.0"
      ]
     },
     "execution_count": 8,
     "metadata": {},
     "output_type": "execute_result"
    }
   ],
   "source": [
    "df_honolulu = df_honolulu[['STATION','NAME','DATE','PRCP']]\n",
    "df_honolulu.head()"
   ]
  },
  {
   "cell_type": "markdown",
   "id": "380d14da-2ed3-48c6-94da-729495b6f630",
   "metadata": {},
   "source": [
    "## Data cleanup and preparation for analysis"
   ]
  },
  {
   "cell_type": "markdown",
   "id": "07794867",
   "metadata": {},
   "source": []
  },
  {
   "cell_type": "markdown",
   "id": "7aa51a39-434b-4c96-9388-eff7ca25b15a",
   "metadata": {},
   "source": [
    "Validate data size"
   ]
  },
  {
   "cell_type": "code",
   "execution_count": 9,
   "id": "e6a5d793-0742-4960-9418-963c4319924b",
   "metadata": {},
   "outputs": [
    {
     "name": "stdout",
     "output_type": "stream",
     "text": [
      "(1658, 4)\n",
      "(1826, 4)\n"
     ]
    }
   ],
   "source": [
    "print(df_seattle.shape)\n",
    "print(df_honolulu.shape)"
   ]
  },
  {
   "cell_type": "code",
   "execution_count": 10,
   "id": "29cad2a4-e194-4ed5-8dfd-e887fa7e7fbf",
   "metadata": {},
   "outputs": [
    {
     "data": {
      "image/png": "[encoded data removed]",
      "text/plain": [
       "<Figure size 2000x500 with 1 Axes>"
      ]
     },
     "metadata": {},
     "output_type": "display_data"
    }
   ],
   "source": [
    "plt.figure(figsize=(20, 5))\n",
    "sns.lineplot(data=df_seattle, x='DATE', y='PRCP', label='Seattle')\n",
    "plt.xlabel('Date',fontsize=18)\n",
    "plt.ylabel('Precipitation (inches)',fontsize=18)\n",
    "plt.ylim(0, 8)\n",
    "plt.tick_params(labelsize=15)\n",
    "plt.show()\n"
   ]
  },
  {
   "cell_type": "code",
   "execution_count": 11,
   "id": "1ebc97c1-2a91-4360-9e0d-ad33424acb20",
   "metadata": {},
   "outputs": [
    {
     "data": {
      "image/png": "[encoded data removed]",
      "text/plain": [
       "<Figure size 2000x500 with 1 Axes>"
      ]
     },
     "metadata": {},
     "output_type": "display_data"
    }
   ],
   "source": [
    "plt.figure(figsize=(20, 5))\n",
    "sns.lineplot(data=df_honolulu, x='DATE', y='PRCP', label='Honolulu')\n",
    "plt.xlabel('Date',fontsize=18)\n",
    "plt.ylabel('Precipitation (inches)',fontsize=18)\n",
    "plt.ylim(0, 8)\n",
    "\n",
    "plt.tick_params(labelsize=15)\n",
    "plt.show()\n"
   ]
  },
  {
   "cell_type": "code",
   "execution_count": 12,
   "id": "7130f301-56f1-4089-9139-65f6153fe992",
   "metadata": {},
   "outputs": [
    {
     "data": {
      "text/plain": [
       "array(['US1WAKG0225'], dtype=object)"
      ]
     },
     "execution_count": 12,
     "metadata": {},
     "output_type": "execute_result"
    }
   ],
   "source": [
    "df_seattle['STATION'].unique()"
   ]
  },
  {
   "cell_type": "code",
   "execution_count": 13,
   "id": "87fe3924-f5dd-4498-a70b-6d463f37195c",
   "metadata": {},
   "outputs": [
    {
     "data": {
      "text/plain": [
       "array(['USW00022521'], dtype=object)"
      ]
     },
     "execution_count": 13,
     "metadata": {},
     "output_type": "execute_result"
    }
   ],
   "source": [
    "df_honolulu['STATION'].unique()"
   ]
  },
  {
   "cell_type": "code",
   "execution_count": 14,
   "id": "df4e761e-d372-4310-bf7f-e97f6c24ac00",
   "metadata": {},
   "outputs": [
    {
     "data": {
      "text/html": [
       "<div>\n",
       "<style scoped>\n",
       "    .dataframe tbody tr th:only-of-type {\n",
       "        vertical-align: middle;\n",
       "    }\n",
       "\n",
       "    .dataframe tbody tr th {\n",
       "        vertical-align: top;\n",
       "    }\n",
       "\n",
       "    .dataframe thead th {\n",
       "        text-align: right;\n",
       "    }\n",
       "</style>\n",
       "<table border=\"1\" class=\"dataframe\">\n",
       "  <thead>\n",
       "    <tr style=\"text-align: right;\">\n",
       "      <th></th>\n",
       "      <th>STATION</th>\n",
       "      <th>NAME</th>\n",
       "      <th>DATE</th>\n",
       "      <th>PRCP</th>\n",
       "    </tr>\n",
       "  </thead>\n",
       "  <tbody>\n",
       "    <tr>\n",
       "      <th>1653</th>\n",
       "      <td>US1WAKG0225</td>\n",
       "      <td>SEATTLE 2.1 ESE, WA US</td>\n",
       "      <td>12/27/22</td>\n",
       "      <td>0.78</td>\n",
       "    </tr>\n",
       "    <tr>\n",
       "      <th>1654</th>\n",
       "      <td>US1WAKG0225</td>\n",
       "      <td>SEATTLE 2.1 ESE, WA US</td>\n",
       "      <td>12/28/22</td>\n",
       "      <td>0.40</td>\n",
       "    </tr>\n",
       "    <tr>\n",
       "      <th>1655</th>\n",
       "      <td>US1WAKG0225</td>\n",
       "      <td>SEATTLE 2.1 ESE, WA US</td>\n",
       "      <td>12/29/22</td>\n",
       "      <td>0.03</td>\n",
       "    </tr>\n",
       "    <tr>\n",
       "      <th>1656</th>\n",
       "      <td>US1WAKG0225</td>\n",
       "      <td>SEATTLE 2.1 ESE, WA US</td>\n",
       "      <td>12/30/22</td>\n",
       "      <td>0.62</td>\n",
       "    </tr>\n",
       "    <tr>\n",
       "      <th>1657</th>\n",
       "      <td>US1WAKG0225</td>\n",
       "      <td>SEATTLE 2.1 ESE, WA US</td>\n",
       "      <td>12/31/22</td>\n",
       "      <td>0.17</td>\n",
       "    </tr>\n",
       "  </tbody>\n",
       "</table>\n",
       "</div>"
      ],
      "text/plain": [
       "          STATION                    NAME      DATE  PRCP\n",
       "1653  US1WAKG0225  SEATTLE 2.1 ESE, WA US  12/27/22  0.78\n",
       "1654  US1WAKG0225  SEATTLE 2.1 ESE, WA US  12/28/22  0.40\n",
       "1655  US1WAKG0225  SEATTLE 2.1 ESE, WA US  12/29/22  0.03\n",
       "1656  US1WAKG0225  SEATTLE 2.1 ESE, WA US  12/30/22  0.62\n",
       "1657  US1WAKG0225  SEATTLE 2.1 ESE, WA US  12/31/22  0.17"
      ]
     },
     "execution_count": 14,
     "metadata": {},
     "output_type": "execute_result"
    }
   ],
   "source": [
    "df_seattle.tail()\n"
   ]
  },
  {
   "cell_type": "code",
   "execution_count": 15,
   "id": "053e6c00-6090-47f4-a56d-daaf36fb1e02",
   "metadata": {},
   "outputs": [
    {
     "data": {
      "text/html": [
       "<div>\n",
       "<style scoped>\n",
       "    .dataframe tbody tr th:only-of-type {\n",
       "        vertical-align: middle;\n",
       "    }\n",
       "\n",
       "    .dataframe tbody tr th {\n",
       "        vertical-align: top;\n",
       "    }\n",
       "\n",
       "    .dataframe thead th {\n",
       "        text-align: right;\n",
       "    }\n",
       "</style>\n",
       "<table border=\"1\" class=\"dataframe\">\n",
       "  <thead>\n",
       "    <tr style=\"text-align: right;\">\n",
       "      <th></th>\n",
       "      <th>STATION</th>\n",
       "      <th>NAME</th>\n",
       "      <th>DATE</th>\n",
       "      <th>PRCP</th>\n",
       "    </tr>\n",
       "  </thead>\n",
       "  <tbody>\n",
       "    <tr>\n",
       "      <th>1821</th>\n",
       "      <td>USW00022521</td>\n",
       "      <td>HONOLULU INTERNATIONAL AIRPORT, HI US</td>\n",
       "      <td>2022-12-27</td>\n",
       "      <td>0.0</td>\n",
       "    </tr>\n",
       "    <tr>\n",
       "      <th>1822</th>\n",
       "      <td>USW00022521</td>\n",
       "      <td>HONOLULU INTERNATIONAL AIRPORT, HI US</td>\n",
       "      <td>2022-12-28</td>\n",
       "      <td>0.0</td>\n",
       "    </tr>\n",
       "    <tr>\n",
       "      <th>1823</th>\n",
       "      <td>USW00022521</td>\n",
       "      <td>HONOLULU INTERNATIONAL AIRPORT, HI US</td>\n",
       "      <td>2022-12-29</td>\n",
       "      <td>0.0</td>\n",
       "    </tr>\n",
       "    <tr>\n",
       "      <th>1824</th>\n",
       "      <td>USW00022521</td>\n",
       "      <td>HONOLULU INTERNATIONAL AIRPORT, HI US</td>\n",
       "      <td>2022-12-30</td>\n",
       "      <td>0.0</td>\n",
       "    </tr>\n",
       "    <tr>\n",
       "      <th>1825</th>\n",
       "      <td>USW00022521</td>\n",
       "      <td>HONOLULU INTERNATIONAL AIRPORT, HI US</td>\n",
       "      <td>2022-12-31</td>\n",
       "      <td>0.0</td>\n",
       "    </tr>\n",
       "  </tbody>\n",
       "</table>\n",
       "</div>"
      ],
      "text/plain": [
       "          STATION                                   NAME        DATE  PRCP\n",
       "1821  USW00022521  HONOLULU INTERNATIONAL AIRPORT, HI US  2022-12-27   0.0\n",
       "1822  USW00022521  HONOLULU INTERNATIONAL AIRPORT, HI US  2022-12-28   0.0\n",
       "1823  USW00022521  HONOLULU INTERNATIONAL AIRPORT, HI US  2022-12-29   0.0\n",
       "1824  USW00022521  HONOLULU INTERNATIONAL AIRPORT, HI US  2022-12-30   0.0\n",
       "1825  USW00022521  HONOLULU INTERNATIONAL AIRPORT, HI US  2022-12-31   0.0"
      ]
     },
     "execution_count": 15,
     "metadata": {},
     "output_type": "execute_result"
    }
   ],
   "source": [
    "df_honolulu.tail()"
   ]
  },
  {
   "cell_type": "markdown",
   "id": "6b959754-8d82-476e-ba74-a5cfdad07203",
   "metadata": {},
   "source": [
    "From analysis of the data:\n",
    "-   [x] Validate date ranges  (2018-01-01-2022-12-31) \n",
    "-   [x] One station is used in Seattle and Honolulu\n",
    "-   [x] Dates require consitent format"
   ]
  },
  {
   "cell_type": "code",
   "execution_count": 16,
   "id": "b6a95e47",
   "metadata": {},
   "outputs": [
    {
     "name": "stderr",
     "output_type": "stream",
     "text": [
      "C:\\Users\\Jack\\AppData\\Local\\Temp\\ipykernel_42736\\1210292781.py:2: UserWarning: Could not infer format, so each element will be parsed individually, falling back to `dateutil`. To ensure parsing is consistent and as-expected, please specify a format.\n",
      "  df_seattle['DATE'] = pd.to_datetime(df_seattle['DATE'])\n"
     ]
    }
   ],
   "source": [
    "# Unifying date format:\n",
    "df_seattle['DATE'] = pd.to_datetime(df_seattle['DATE'])\n",
    "df_honolulu['DATE'] = pd.to_datetime(df_honolulu['DATE'])\n"
   ]
  },
  {
   "cell_type": "code",
   "execution_count": 17,
   "id": "a325c408",
   "metadata": {},
   "outputs": [
    {
     "data": {
      "text/html": [
       "<div>\n",
       "<style scoped>\n",
       "    .dataframe tbody tr th:only-of-type {\n",
       "        vertical-align: middle;\n",
       "    }\n",
       "\n",
       "    .dataframe tbody tr th {\n",
       "        vertical-align: top;\n",
       "    }\n",
       "\n",
       "    .dataframe thead th {\n",
       "        text-align: right;\n",
       "    }\n",
       "</style>\n",
       "<table border=\"1\" class=\"dataframe\">\n",
       "  <thead>\n",
       "    <tr style=\"text-align: right;\">\n",
       "      <th></th>\n",
       "      <th>STATION</th>\n",
       "      <th>NAME</th>\n",
       "      <th>DATE</th>\n",
       "      <th>PRCP</th>\n",
       "    </tr>\n",
       "  </thead>\n",
       "  <tbody>\n",
       "    <tr>\n",
       "      <th>0</th>\n",
       "      <td>US1WAKG0225</td>\n",
       "      <td>SEATTLE 2.1 ESE, WA US</td>\n",
       "      <td>2018-01-01</td>\n",
       "      <td>0.00</td>\n",
       "    </tr>\n",
       "    <tr>\n",
       "      <th>1</th>\n",
       "      <td>US1WAKG0225</td>\n",
       "      <td>SEATTLE 2.1 ESE, WA US</td>\n",
       "      <td>2018-01-02</td>\n",
       "      <td>0.00</td>\n",
       "    </tr>\n",
       "    <tr>\n",
       "      <th>2</th>\n",
       "      <td>US1WAKG0225</td>\n",
       "      <td>SEATTLE 2.1 ESE, WA US</td>\n",
       "      <td>2018-01-03</td>\n",
       "      <td>0.00</td>\n",
       "    </tr>\n",
       "    <tr>\n",
       "      <th>3</th>\n",
       "      <td>US1WAKG0225</td>\n",
       "      <td>SEATTLE 2.1 ESE, WA US</td>\n",
       "      <td>2018-01-04</td>\n",
       "      <td>0.00</td>\n",
       "    </tr>\n",
       "    <tr>\n",
       "      <th>4</th>\n",
       "      <td>US1WAKG0225</td>\n",
       "      <td>SEATTLE 2.1 ESE, WA US</td>\n",
       "      <td>2018-01-05</td>\n",
       "      <td>0.25</td>\n",
       "    </tr>\n",
       "  </tbody>\n",
       "</table>\n",
       "</div>"
      ],
      "text/plain": [
       "       STATION                    NAME       DATE  PRCP\n",
       "0  US1WAKG0225  SEATTLE 2.1 ESE, WA US 2018-01-01  0.00\n",
       "1  US1WAKG0225  SEATTLE 2.1 ESE, WA US 2018-01-02  0.00\n",
       "2  US1WAKG0225  SEATTLE 2.1 ESE, WA US 2018-01-03  0.00\n",
       "3  US1WAKG0225  SEATTLE 2.1 ESE, WA US 2018-01-04  0.00\n",
       "4  US1WAKG0225  SEATTLE 2.1 ESE, WA US 2018-01-05  0.25"
      ]
     },
     "metadata": {},
     "output_type": "display_data"
    }
   ],
   "source": [
    "display(df_seattle.head())"
   ]
  },
  {
   "cell_type": "code",
   "execution_count": 18,
   "id": "bb3206f5",
   "metadata": {},
   "outputs": [
    {
     "data": {
      "text/html": [
       "<div>\n",
       "<style scoped>\n",
       "    .dataframe tbody tr th:only-of-type {\n",
       "        vertical-align: middle;\n",
       "    }\n",
       "\n",
       "    .dataframe tbody tr th {\n",
       "        vertical-align: top;\n",
       "    }\n",
       "\n",
       "    .dataframe thead th {\n",
       "        text-align: right;\n",
       "    }\n",
       "</style>\n",
       "<table border=\"1\" class=\"dataframe\">\n",
       "  <thead>\n",
       "    <tr style=\"text-align: right;\">\n",
       "      <th></th>\n",
       "      <th>STATION</th>\n",
       "      <th>NAME</th>\n",
       "      <th>DATE</th>\n",
       "      <th>PRCP</th>\n",
       "    </tr>\n",
       "  </thead>\n",
       "  <tbody>\n",
       "    <tr>\n",
       "      <th>0</th>\n",
       "      <td>USW00022521</td>\n",
       "      <td>HONOLULU INTERNATIONAL AIRPORT, HI US</td>\n",
       "      <td>2018-01-01</td>\n",
       "      <td>0.0</td>\n",
       "    </tr>\n",
       "    <tr>\n",
       "      <th>1</th>\n",
       "      <td>USW00022521</td>\n",
       "      <td>HONOLULU INTERNATIONAL AIRPORT, HI US</td>\n",
       "      <td>2018-01-02</td>\n",
       "      <td>0.0</td>\n",
       "    </tr>\n",
       "    <tr>\n",
       "      <th>2</th>\n",
       "      <td>USW00022521</td>\n",
       "      <td>HONOLULU INTERNATIONAL AIRPORT, HI US</td>\n",
       "      <td>2018-01-03</td>\n",
       "      <td>0.0</td>\n",
       "    </tr>\n",
       "    <tr>\n",
       "      <th>3</th>\n",
       "      <td>USW00022521</td>\n",
       "      <td>HONOLULU INTERNATIONAL AIRPORT, HI US</td>\n",
       "      <td>2018-01-04</td>\n",
       "      <td>0.0</td>\n",
       "    </tr>\n",
       "    <tr>\n",
       "      <th>4</th>\n",
       "      <td>USW00022521</td>\n",
       "      <td>HONOLULU INTERNATIONAL AIRPORT, HI US</td>\n",
       "      <td>2018-01-05</td>\n",
       "      <td>0.0</td>\n",
       "    </tr>\n",
       "  </tbody>\n",
       "</table>\n",
       "</div>"
      ],
      "text/plain": [
       "       STATION                                   NAME       DATE  PRCP\n",
       "0  USW00022521  HONOLULU INTERNATIONAL AIRPORT, HI US 2018-01-01   0.0\n",
       "1  USW00022521  HONOLULU INTERNATIONAL AIRPORT, HI US 2018-01-02   0.0\n",
       "2  USW00022521  HONOLULU INTERNATIONAL AIRPORT, HI US 2018-01-03   0.0\n",
       "3  USW00022521  HONOLULU INTERNATIONAL AIRPORT, HI US 2018-01-04   0.0\n",
       "4  USW00022521  HONOLULU INTERNATIONAL AIRPORT, HI US 2018-01-05   0.0"
      ]
     },
     "metadata": {},
     "output_type": "display_data"
    }
   ],
   "source": [
    "display(df_honolulu.head())"
   ]
  },
  {
   "cell_type": "markdown",
   "id": "a8f0112d",
   "metadata": {},
   "source": [
    "### Merge weather data into single data gframerame and normalize data frame structure\n"
   ]
  },
  {
   "cell_type": "code",
   "execution_count": 19,
   "id": "023404e3",
   "metadata": {},
   "outputs": [
    {
     "data": {
      "text/html": [
       "<div>\n",
       "<style scoped>\n",
       "    .dataframe tbody tr th:only-of-type {\n",
       "        vertical-align: middle;\n",
       "    }\n",
       "\n",
       "    .dataframe tbody tr th {\n",
       "        vertical-align: top;\n",
       "    }\n",
       "\n",
       "    .dataframe thead th {\n",
       "        text-align: right;\n",
       "    }\n",
       "</style>\n",
       "<table border=\"1\" class=\"dataframe\">\n",
       "  <thead>\n",
       "    <tr style=\"text-align: right;\">\n",
       "      <th></th>\n",
       "      <th>date</th>\n",
       "      <th>city</th>\n",
       "      <th>precipitation</th>\n",
       "    </tr>\n",
       "  </thead>\n",
       "  <tbody>\n",
       "    <tr>\n",
       "      <th>0</th>\n",
       "      <td>2018-01-01</td>\n",
       "      <td>Seattle</td>\n",
       "      <td>0.00</td>\n",
       "    </tr>\n",
       "    <tr>\n",
       "      <th>1</th>\n",
       "      <td>2018-01-02</td>\n",
       "      <td>Seattle</td>\n",
       "      <td>0.00</td>\n",
       "    </tr>\n",
       "    <tr>\n",
       "      <th>2</th>\n",
       "      <td>2018-01-03</td>\n",
       "      <td>Seattle</td>\n",
       "      <td>0.00</td>\n",
       "    </tr>\n",
       "    <tr>\n",
       "      <th>3</th>\n",
       "      <td>2018-01-04</td>\n",
       "      <td>Seattle</td>\n",
       "      <td>0.00</td>\n",
       "    </tr>\n",
       "    <tr>\n",
       "      <th>4</th>\n",
       "      <td>2018-01-05</td>\n",
       "      <td>Seattle</td>\n",
       "      <td>0.25</td>\n",
       "    </tr>\n",
       "    <tr>\n",
       "      <th>...</th>\n",
       "      <td>...</td>\n",
       "      <td>...</td>\n",
       "      <td>...</td>\n",
       "    </tr>\n",
       "    <tr>\n",
       "      <th>3647</th>\n",
       "      <td>2022-12-27</td>\n",
       "      <td>Honolulu</td>\n",
       "      <td>0.00</td>\n",
       "    </tr>\n",
       "    <tr>\n",
       "      <th>3648</th>\n",
       "      <td>2022-12-28</td>\n",
       "      <td>Honolulu</td>\n",
       "      <td>0.00</td>\n",
       "    </tr>\n",
       "    <tr>\n",
       "      <th>3649</th>\n",
       "      <td>2022-12-29</td>\n",
       "      <td>Honolulu</td>\n",
       "      <td>0.00</td>\n",
       "    </tr>\n",
       "    <tr>\n",
       "      <th>3650</th>\n",
       "      <td>2022-12-30</td>\n",
       "      <td>Honolulu</td>\n",
       "      <td>0.00</td>\n",
       "    </tr>\n",
       "    <tr>\n",
       "      <th>3651</th>\n",
       "      <td>2022-12-31</td>\n",
       "      <td>Honolulu</td>\n",
       "      <td>0.00</td>\n",
       "    </tr>\n",
       "  </tbody>\n",
       "</table>\n",
       "<p>3652 rows × 3 columns</p>\n",
       "</div>"
      ],
      "text/plain": [
       "           date      city  precipitation\n",
       "0    2018-01-01   Seattle           0.00\n",
       "1    2018-01-02   Seattle           0.00\n",
       "2    2018-01-03   Seattle           0.00\n",
       "3    2018-01-04   Seattle           0.00\n",
       "4    2018-01-05   Seattle           0.25\n",
       "...         ...       ...            ...\n",
       "3647 2022-12-27  Honolulu           0.00\n",
       "3648 2022-12-28  Honolulu           0.00\n",
       "3649 2022-12-29  Honolulu           0.00\n",
       "3650 2022-12-30  Honolulu           0.00\n",
       "3651 2022-12-31  Honolulu           0.00\n",
       "\n",
       "[3652 rows x 3 columns]"
      ]
     },
     "execution_count": 19,
     "metadata": {},
     "output_type": "execute_result"
    }
   ],
   "source": [
    "df_stl_hnl = df_seattle[['DATE','PRCP']].merge(df_honolulu[['DATE','PRCP']], on='DATE',how='outer')\n",
    "\n",
    "# Tidy data frame to columns: date, precipitation, city\n",
    "df_stl_hnl = df_stl_hnl.melt(id_vars=['DATE'], var_name='city', value_name='precipitation') \n",
    "df_stl_hnl['city'] = df_stl_hnl['city'].map({'PRCP_x': 'Seattle', 'PRCP_y': 'Honolulu'})\n",
    "df_stl_hnl = df_stl_hnl.rename(columns={'DATE': 'date'})\n",
    "#df_stl_hnl = df_stl_hnl.sort_values(by=['date','city']).reset_index(drop=True)\n",
    "df_stl_hnl\n",
    "                               "
   ]
  },
  {
   "cell_type": "markdown",
   "id": "d6f04bf7",
   "metadata": {},
   "source": [
    "### Replacing missing precipitation data with average across years"
   ]
  },
  {
   "cell_type": "code",
   "execution_count": 20,
   "id": "5e3b32ad",
   "metadata": {},
   "outputs": [
    {
     "data": {
      "text/plain": [
       "np.int64(190)"
      ]
     },
     "execution_count": 20,
     "metadata": {},
     "output_type": "execute_result"
    }
   ],
   "source": [
    "df_stl_hnl.loc[df_stl_hnl['city']=='Seattle','precipitation'].isna().sum()"
   ]
  },
  {
   "cell_type": "code",
   "execution_count": 21,
   "id": "4a87bd10",
   "metadata": {},
   "outputs": [
    {
     "data": {
      "text/plain": [
       "np.int64(0)"
      ]
     },
     "execution_count": 21,
     "metadata": {},
     "output_type": "execute_result"
    }
   ],
   "source": [
    "df_stl_hnl.loc[df_stl_hnl['city']=='Honolulu','precipitation'].isna().sum() "
   ]
  },
  {
   "cell_type": "code",
   "execution_count": 22,
   "id": "96c1176d",
   "metadata": {},
   "outputs": [],
   "source": [
    "# Add day of year column\n",
    "df_stl_hnl['day_of_year'] = pd.DatetimeIndex(df_stl_hnl['date']).dayofyear\n",
    "\n",
    "# Calculate average precipitation for each day of the year for Seattle (only Seattle has missing data)\n",
    "mean_precip_seattle = df_stl_hnl.loc[df_stl_hnl['city']=='Seattle',['precipitation','day_of_year']].groupby('day_of_year').mean()\n",
    "indicies = np.where((df_stl_hnl['city']=='Seattle') & (df_stl_hnl['precipitation'].isna()==True))[0]\n",
    "#indicies\n",
    "for i in indicies:\n",
    "    day_of_year = df_stl_hnl.loc[i,'day_of_year']\n",
    "    df_stl_hnl.loc[i,'precipitation'] = mean_precip_seattle.loc[day_of_year,'precipitation']\n",
    "#df_stl_hnl['precipitation'].isna().sum()\n",
    "\n"
   ]
  },
  {
   "cell_type": "code",
   "execution_count": 23,
   "id": "195a1863",
   "metadata": {},
   "outputs": [],
   "source": [
    "## Export preprocessed data to csv file\n",
    "df_stl_hnl.to_csv('../data/seattle_honolulu_rain_clean.csv', index=False)"
   ]
  },
  {
   "cell_type": "code",
   "execution_count": null,
   "id": "6937e9fb",
   "metadata": {},
   "outputs": [],
   "source": []
  }
 ],
 "metadata": {
  "kernelspec": {
   "display_name": "base",
   "language": "python",
   "name": "python3"
  },
  "language_info": {
   "codemirror_mode": {
    "name": "ipython",
    "version": 3
   },
   "file_extension": ".py",
   "mimetype": "text/x-python",
   "name": "python",
   "nbconvert_exporter": "python",
   "pygments_lexer": "ipython3",
   "version": "3.13.5"
  },
  "panel-cell-order": [
   "feb020d4-405c-46b9-b9aa-5d8115646228",
   "faac13b6",
   "35840f42-5dcd-49fa-97b5-b4a0bfcf7f42"
  ]
 },
 "nbformat": 4,
 "nbformat_minor": 5
}
