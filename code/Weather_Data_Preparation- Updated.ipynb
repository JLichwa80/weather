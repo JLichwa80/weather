{
 "cells": [
  {
   "cell_type": "markdown",
   "id": "feb020d4-405c-46b9-b9aa-5d8115646228",
   "metadata": {
    "panel-layout": {
     "height": 50.8125,
     "visible": true,
     "width": 100
    }
   },
   "source": [
    "# Weather Project - Rain Precipitation between Seattle and Honolulu - Data Preparation\n",
    "In this notebook, we will prepare the data Weather project by cleaning and transforming the datasets gathered from National Oceanic and Atmospheric Administration (NOAA), containing daily rain precipitation data for Seattle and Honolulu from 2018 to 2022.\n",
    "\n",
    "\n",
    "## Project Overview\n",
    "This project analyzes daily rain precipitation between Seattle and Honolulu in 2018 - 2022. It will compare rain precipitation between the two cities and determine if Honolulu gets more rain than Seattle. The report would initially compare total daily rain precipitation between the two cities and then analyze how it varies on a monthly basis evaluating seasonal trends, and variability.\n",
    "\n"
   ]
  },
  {
   "cell_type": "markdown",
   "id": "faac13b6",
   "metadata": {
    "panel-layout": {
     "height": 51.13541793823242,
     "visible": true,
     "width": 100
    }
   },
   "source": [
    "## Import Libraries"
   ]
  },
  {
   "cell_type": "markdown",
   "id": "05645b05",
   "metadata": {},
   "source": [
    "Importing common Python libraries for data manipulation and visualization.\n"
   ]
  },
  {
   "cell_type": "code",
   "execution_count": 4,
   "id": "35840f42-5dcd-49fa-97b5-b4a0bfcf7f42",
   "metadata": {
    "panel-layout": {
     "height": 0,
     "visible": true,
     "width": 100
    }
   },
   "outputs": [],
   "source": [
    "# Import pandas, numpy, and matplotlib\n",
    "import pandas as pd\n",
    "import numpy as np\n",
    "import matplotlib.pyplot as plt\n",
    "\n",
    "# seaborn is a data visualization library built on matplotlib\n",
    "import seaborn as sns\n",
    "\n",
    "# set the plotting style\n",
    "sns.set_style(\"whitegrid\")"
   ]
  },
  {
   "cell_type": "markdown",
   "id": "a89e6c78-c76e-41ca-b828-8fa2d12347a3",
   "metadata": {},
   "source": [
    "## Load the data"
   ]
  },
  {
   "cell_type": "markdown",
   "id": "3bddba4a",
   "metadata": {},
   "source": [
    "Loading and analyzing the datasets for Seattle and Honolulu from CSV files into pandas DataFrames."
   ]
  },
  {
   "cell_type": "markdown",
   "id": "5a274391-03d0-44b7-825f-31c8548dfcc2",
   "metadata": {},
   "source": [
    "### Seattle"
   ]
  },
  {
   "cell_type": "markdown",
   "id": "8b6eab5a",
   "metadata": {},
   "source": [
    "Loading Seattle weather data from CSV file into a pandas DataFrame."
   ]
  },
  {
   "cell_type": "code",
   "execution_count": 5,
   "id": "1d5f5587-781d-41d6-9e01-b1eb1d35f892",
   "metadata": {},
   "outputs": [],
   "source": [
    "df_seattle = pd.read_csv('https://raw.githubusercontent.com/JLichwa80/weather/refs/heads/main/data/seattle_rain.csv')"
   ]
  },
  {
   "cell_type": "code",
   "execution_count": 6,
   "id": "bc4fdcba-0a24-418f-96d0-b893c161325b",
   "metadata": {},
   "outputs": [
    {
     "data": {
      "application/vnd.microsoft.datawrangler.viewer.v0+json": {
       "columns": [
        {
         "name": "index",
         "rawType": "int64",
         "type": "integer"
        },
        {
         "name": "STATION",
         "rawType": "object",
         "type": "string"
        },
        {
         "name": "NAME",
         "rawType": "object",
         "type": "string"
        },
        {
         "name": "DATE",
         "rawType": "object",
         "type": "string"
        },
        {
         "name": "DAPR",
         "rawType": "float64",
         "type": "float"
        },
        {
         "name": "MDPR",
         "rawType": "float64",
         "type": "float"
        },
        {
         "name": "PRCP",
         "rawType": "float64",
         "type": "float"
        },
        {
         "name": "SNOW",
         "rawType": "float64",
         "type": "float"
        },
        {
         "name": "SNWD",
         "rawType": "float64",
         "type": "float"
        },
        {
         "name": "WESD",
         "rawType": "float64",
         "type": "float"
        },
        {
         "name": "WESF",
         "rawType": "float64",
         "type": "float"
        }
       ],
       "ref": "12f11f7f-cc04-406f-9c4c-ce12dda8c1c9",
       "rows": [
        [
         "0",
         "US1WAKG0225",
         "SEATTLE 2.1 ESE, WA US",
         "1/1/18",
         null,
         null,
         "0.0",
         null,
         null,
         null,
         null
        ],
        [
         "1",
         "US1WAKG0225",
         "SEATTLE 2.1 ESE, WA US",
         "1/2/18",
         null,
         null,
         "0.0",
         null,
         null,
         null,
         null
        ],
        [
         "2",
         "US1WAKG0225",
         "SEATTLE 2.1 ESE, WA US",
         "1/3/18",
         null,
         null,
         "0.0",
         null,
         null,
         null,
         null
        ],
        [
         "3",
         "US1WAKG0225",
         "SEATTLE 2.1 ESE, WA US",
         "1/4/18",
         null,
         null,
         "0.0",
         null,
         null,
         null,
         null
        ],
        [
         "4",
         "US1WAKG0225",
         "SEATTLE 2.1 ESE, WA US",
         "1/5/18",
         null,
         null,
         "0.25",
         null,
         null,
         null,
         null
        ]
       ],
       "shape": {
        "columns": 10,
        "rows": 5
       }
      },
      "text/html": [
       "<div>\n",
       "<style scoped>\n",
       "    .dataframe tbody tr th:only-of-type {\n",
       "        vertical-align: middle;\n",
       "    }\n",
       "\n",
       "    .dataframe tbody tr th {\n",
       "        vertical-align: top;\n",
       "    }\n",
       "\n",
       "    .dataframe thead th {\n",
       "        text-align: right;\n",
       "    }\n",
       "</style>\n",
       "<table border=\"1\" class=\"dataframe\">\n",
       "  <thead>\n",
       "    <tr style=\"text-align: right;\">\n",
       "      <th></th>\n",
       "      <th>STATION</th>\n",
       "      <th>NAME</th>\n",
       "      <th>DATE</th>\n",
       "      <th>DAPR</th>\n",
       "      <th>MDPR</th>\n",
       "      <th>PRCP</th>\n",
       "      <th>SNOW</th>\n",
       "      <th>SNWD</th>\n",
       "      <th>WESD</th>\n",
       "      <th>WESF</th>\n",
       "    </tr>\n",
       "  </thead>\n",
       "  <tbody>\n",
       "    <tr>\n",
       "      <th>0</th>\n",
       "      <td>US1WAKG0225</td>\n",
       "      <td>SEATTLE 2.1 ESE, WA US</td>\n",
       "      <td>1/1/18</td>\n",
       "      <td>NaN</td>\n",
       "      <td>NaN</td>\n",
       "      <td>0.00</td>\n",
       "      <td>NaN</td>\n",
       "      <td>NaN</td>\n",
       "      <td>NaN</td>\n",
       "      <td>NaN</td>\n",
       "    </tr>\n",
       "    <tr>\n",
       "      <th>1</th>\n",
       "      <td>US1WAKG0225</td>\n",
       "      <td>SEATTLE 2.1 ESE, WA US</td>\n",
       "      <td>1/2/18</td>\n",
       "      <td>NaN</td>\n",
       "      <td>NaN</td>\n",
       "      <td>0.00</td>\n",
       "      <td>NaN</td>\n",
       "      <td>NaN</td>\n",
       "      <td>NaN</td>\n",
       "      <td>NaN</td>\n",
       "    </tr>\n",
       "    <tr>\n",
       "      <th>2</th>\n",
       "      <td>US1WAKG0225</td>\n",
       "      <td>SEATTLE 2.1 ESE, WA US</td>\n",
       "      <td>1/3/18</td>\n",
       "      <td>NaN</td>\n",
       "      <td>NaN</td>\n",
       "      <td>0.00</td>\n",
       "      <td>NaN</td>\n",
       "      <td>NaN</td>\n",
       "      <td>NaN</td>\n",
       "      <td>NaN</td>\n",
       "    </tr>\n",
       "    <tr>\n",
       "      <th>3</th>\n",
       "      <td>US1WAKG0225</td>\n",
       "      <td>SEATTLE 2.1 ESE, WA US</td>\n",
       "      <td>1/4/18</td>\n",
       "      <td>NaN</td>\n",
       "      <td>NaN</td>\n",
       "      <td>0.00</td>\n",
       "      <td>NaN</td>\n",
       "      <td>NaN</td>\n",
       "      <td>NaN</td>\n",
       "      <td>NaN</td>\n",
       "    </tr>\n",
       "    <tr>\n",
       "      <th>4</th>\n",
       "      <td>US1WAKG0225</td>\n",
       "      <td>SEATTLE 2.1 ESE, WA US</td>\n",
       "      <td>1/5/18</td>\n",
       "      <td>NaN</td>\n",
       "      <td>NaN</td>\n",
       "      <td>0.25</td>\n",
       "      <td>NaN</td>\n",
       "      <td>NaN</td>\n",
       "      <td>NaN</td>\n",
       "      <td>NaN</td>\n",
       "    </tr>\n",
       "  </tbody>\n",
       "</table>\n",
       "</div>"
      ],
      "text/plain": [
       "       STATION                    NAME    DATE  DAPR  MDPR  PRCP  SNOW  SNWD  \\\n",
       "0  US1WAKG0225  SEATTLE 2.1 ESE, WA US  1/1/18   NaN   NaN  0.00   NaN   NaN   \n",
       "1  US1WAKG0225  SEATTLE 2.1 ESE, WA US  1/2/18   NaN   NaN  0.00   NaN   NaN   \n",
       "2  US1WAKG0225  SEATTLE 2.1 ESE, WA US  1/3/18   NaN   NaN  0.00   NaN   NaN   \n",
       "3  US1WAKG0225  SEATTLE 2.1 ESE, WA US  1/4/18   NaN   NaN  0.00   NaN   NaN   \n",
       "4  US1WAKG0225  SEATTLE 2.1 ESE, WA US  1/5/18   NaN   NaN  0.25   NaN   NaN   \n",
       "\n",
       "   WESD  WESF  \n",
       "0   NaN   NaN  \n",
       "1   NaN   NaN  \n",
       "2   NaN   NaN  \n",
       "3   NaN   NaN  \n",
       "4   NaN   NaN  "
      ]
     },
     "execution_count": 6,
     "metadata": {},
     "output_type": "execute_result"
    }
   ],
   "source": [
    "df_seattle.head()"
   ]
  },
  {
   "cell_type": "markdown",
   "id": "7683f02f",
   "metadata": {},
   "source": [
    "We can observe that the dataset contains multiple columns, but we will reduce them to the relevant ones for our analysis."
   ]
  },
  {
   "cell_type": "markdown",
   "id": "79d5808d-28bb-48ac-8cb8-dfbf028faa48",
   "metadata": {},
   "source": [
    "Reduce columns to relevant for our analysis to Station, Name, Date and PRCP "
   ]
  },
  {
   "cell_type": "code",
   "execution_count": 7,
   "id": "2dfe0eb2-3b81-4175-9309-e17709b79554",
   "metadata": {},
   "outputs": [
    {
     "data": {
      "application/vnd.microsoft.datawrangler.viewer.v0+json": {
       "columns": [
        {
         "name": "index",
         "rawType": "int64",
         "type": "integer"
        },
        {
         "name": "STATION",
         "rawType": "object",
         "type": "string"
        },
        {
         "name": "NAME",
         "rawType": "object",
         "type": "string"
        },
        {
         "name": "DATE",
         "rawType": "object",
         "type": "string"
        },
        {
         "name": "PRCP",
         "rawType": "float64",
         "type": "float"
        }
       ],
       "ref": "66bb2851-23a4-40e1-a324-87453ec8b252",
       "rows": [
        [
         "0",
         "US1WAKG0225",
         "SEATTLE 2.1 ESE, WA US",
         "1/1/18",
         "0.0"
        ],
        [
         "1",
         "US1WAKG0225",
         "SEATTLE 2.1 ESE, WA US",
         "1/2/18",
         "0.0"
        ],
        [
         "2",
         "US1WAKG0225",
         "SEATTLE 2.1 ESE, WA US",
         "1/3/18",
         "0.0"
        ],
        [
         "3",
         "US1WAKG0225",
         "SEATTLE 2.1 ESE, WA US",
         "1/4/18",
         "0.0"
        ],
        [
         "4",
         "US1WAKG0225",
         "SEATTLE 2.1 ESE, WA US",
         "1/5/18",
         "0.25"
        ]
       ],
       "shape": {
        "columns": 4,
        "rows": 5
       }
      },
      "text/html": [
       "<div>\n",
       "<style scoped>\n",
       "    .dataframe tbody tr th:only-of-type {\n",
       "        vertical-align: middle;\n",
       "    }\n",
       "\n",
       "    .dataframe tbody tr th {\n",
       "        vertical-align: top;\n",
       "    }\n",
       "\n",
       "    .dataframe thead th {\n",
       "        text-align: right;\n",
       "    }\n",
       "</style>\n",
       "<table border=\"1\" class=\"dataframe\">\n",
       "  <thead>\n",
       "    <tr style=\"text-align: right;\">\n",
       "      <th></th>\n",
       "      <th>STATION</th>\n",
       "      <th>NAME</th>\n",
       "      <th>DATE</th>\n",
       "      <th>PRCP</th>\n",
       "    </tr>\n",
       "  </thead>\n",
       "  <tbody>\n",
       "    <tr>\n",
       "      <th>0</th>\n",
       "      <td>US1WAKG0225</td>\n",
       "      <td>SEATTLE 2.1 ESE, WA US</td>\n",
       "      <td>1/1/18</td>\n",
       "      <td>0.00</td>\n",
       "    </tr>\n",
       "    <tr>\n",
       "      <th>1</th>\n",
       "      <td>US1WAKG0225</td>\n",
       "      <td>SEATTLE 2.1 ESE, WA US</td>\n",
       "      <td>1/2/18</td>\n",
       "      <td>0.00</td>\n",
       "    </tr>\n",
       "    <tr>\n",
       "      <th>2</th>\n",
       "      <td>US1WAKG0225</td>\n",
       "      <td>SEATTLE 2.1 ESE, WA US</td>\n",
       "      <td>1/3/18</td>\n",
       "      <td>0.00</td>\n",
       "    </tr>\n",
       "    <tr>\n",
       "      <th>3</th>\n",
       "      <td>US1WAKG0225</td>\n",
       "      <td>SEATTLE 2.1 ESE, WA US</td>\n",
       "      <td>1/4/18</td>\n",
       "      <td>0.00</td>\n",
       "    </tr>\n",
       "    <tr>\n",
       "      <th>4</th>\n",
       "      <td>US1WAKG0225</td>\n",
       "      <td>SEATTLE 2.1 ESE, WA US</td>\n",
       "      <td>1/5/18</td>\n",
       "      <td>0.25</td>\n",
       "    </tr>\n",
       "  </tbody>\n",
       "</table>\n",
       "</div>"
      ],
      "text/plain": [
       "       STATION                    NAME    DATE  PRCP\n",
       "0  US1WAKG0225  SEATTLE 2.1 ESE, WA US  1/1/18  0.00\n",
       "1  US1WAKG0225  SEATTLE 2.1 ESE, WA US  1/2/18  0.00\n",
       "2  US1WAKG0225  SEATTLE 2.1 ESE, WA US  1/3/18  0.00\n",
       "3  US1WAKG0225  SEATTLE 2.1 ESE, WA US  1/4/18  0.00\n",
       "4  US1WAKG0225  SEATTLE 2.1 ESE, WA US  1/5/18  0.25"
      ]
     },
     "execution_count": 7,
     "metadata": {},
     "output_type": "execute_result"
    }
   ],
   "source": [
    "df_seattle = df_seattle[['STATION','NAME','DATE','PRCP']]\n",
    "df_seattle.head()"
   ]
  },
  {
   "cell_type": "markdown",
   "id": "04380a98-e062-4d38-880b-28d8898becf7",
   "metadata": {},
   "source": [
    "### Honolulu"
   ]
  },
  {
   "cell_type": "markdown",
   "id": "10ddfcd8",
   "metadata": {},
   "source": [
    "Loading Honolulu weather data from CSV file into a pandas DataFrame."
   ]
  },
  {
   "cell_type": "code",
   "execution_count": 8,
   "id": "a2884e4f-79a6-4075-866a-65ecadb44291",
   "metadata": {},
   "outputs": [],
   "source": [
    "df_honolulu = pd.read_csv('https://raw.githubusercontent.com/JLichwa80/weather/refs/heads/main/data/hnl_rain.csv')"
   ]
  },
  {
   "cell_type": "code",
   "execution_count": 9,
   "id": "2ea7851d-5fbf-49d1-a8d0-64c95256672a",
   "metadata": {},
   "outputs": [
    {
     "data": {
      "application/vnd.microsoft.datawrangler.viewer.v0+json": {
       "columns": [
        {
         "name": "index",
         "rawType": "int64",
         "type": "integer"
        },
        {
         "name": "STATION",
         "rawType": "object",
         "type": "string"
        },
        {
         "name": "NAME",
         "rawType": "object",
         "type": "string"
        },
        {
         "name": "DATE",
         "rawType": "object",
         "type": "string"
        },
        {
         "name": "PRCP",
         "rawType": "float64",
         "type": "float"
        }
       ],
       "ref": "22308a06-3cfc-4445-b5d9-ec54efd431ae",
       "rows": [
        [
         "0",
         "USW00022521",
         "HONOLULU INTERNATIONAL AIRPORT, HI US",
         "2018-01-01",
         "0.0"
        ],
        [
         "1",
         "USW00022521",
         "HONOLULU INTERNATIONAL AIRPORT, HI US",
         "2018-01-02",
         "0.0"
        ],
        [
         "2",
         "USW00022521",
         "HONOLULU INTERNATIONAL AIRPORT, HI US",
         "2018-01-03",
         "0.0"
        ],
        [
         "3",
         "USW00022521",
         "HONOLULU INTERNATIONAL AIRPORT, HI US",
         "2018-01-04",
         "0.0"
        ],
        [
         "4",
         "USW00022521",
         "HONOLULU INTERNATIONAL AIRPORT, HI US",
         "2018-01-05",
         "0.0"
        ]
       ],
       "shape": {
        "columns": 4,
        "rows": 5
       }
      },
      "text/html": [
       "<div>\n",
       "<style scoped>\n",
       "    .dataframe tbody tr th:only-of-type {\n",
       "        vertical-align: middle;\n",
       "    }\n",
       "\n",
       "    .dataframe tbody tr th {\n",
       "        vertical-align: top;\n",
       "    }\n",
       "\n",
       "    .dataframe thead th {\n",
       "        text-align: right;\n",
       "    }\n",
       "</style>\n",
       "<table border=\"1\" class=\"dataframe\">\n",
       "  <thead>\n",
       "    <tr style=\"text-align: right;\">\n",
       "      <th></th>\n",
       "      <th>STATION</th>\n",
       "      <th>NAME</th>\n",
       "      <th>DATE</th>\n",
       "      <th>PRCP</th>\n",
       "    </tr>\n",
       "  </thead>\n",
       "  <tbody>\n",
       "    <tr>\n",
       "      <th>0</th>\n",
       "      <td>USW00022521</td>\n",
       "      <td>HONOLULU INTERNATIONAL AIRPORT, HI US</td>\n",
       "      <td>2018-01-01</td>\n",
       "      <td>0.0</td>\n",
       "    </tr>\n",
       "    <tr>\n",
       "      <th>1</th>\n",
       "      <td>USW00022521</td>\n",
       "      <td>HONOLULU INTERNATIONAL AIRPORT, HI US</td>\n",
       "      <td>2018-01-02</td>\n",
       "      <td>0.0</td>\n",
       "    </tr>\n",
       "    <tr>\n",
       "      <th>2</th>\n",
       "      <td>USW00022521</td>\n",
       "      <td>HONOLULU INTERNATIONAL AIRPORT, HI US</td>\n",
       "      <td>2018-01-03</td>\n",
       "      <td>0.0</td>\n",
       "    </tr>\n",
       "    <tr>\n",
       "      <th>3</th>\n",
       "      <td>USW00022521</td>\n",
       "      <td>HONOLULU INTERNATIONAL AIRPORT, HI US</td>\n",
       "      <td>2018-01-04</td>\n",
       "      <td>0.0</td>\n",
       "    </tr>\n",
       "    <tr>\n",
       "      <th>4</th>\n",
       "      <td>USW00022521</td>\n",
       "      <td>HONOLULU INTERNATIONAL AIRPORT, HI US</td>\n",
       "      <td>2018-01-05</td>\n",
       "      <td>0.0</td>\n",
       "    </tr>\n",
       "  </tbody>\n",
       "</table>\n",
       "</div>"
      ],
      "text/plain": [
       "       STATION                                   NAME        DATE  PRCP\n",
       "0  USW00022521  HONOLULU INTERNATIONAL AIRPORT, HI US  2018-01-01   0.0\n",
       "1  USW00022521  HONOLULU INTERNATIONAL AIRPORT, HI US  2018-01-02   0.0\n",
       "2  USW00022521  HONOLULU INTERNATIONAL AIRPORT, HI US  2018-01-03   0.0\n",
       "3  USW00022521  HONOLULU INTERNATIONAL AIRPORT, HI US  2018-01-04   0.0\n",
       "4  USW00022521  HONOLULU INTERNATIONAL AIRPORT, HI US  2018-01-05   0.0"
      ]
     },
     "execution_count": 9,
     "metadata": {},
     "output_type": "execute_result"
    }
   ],
   "source": [
    "df_honolulu.head()"
   ]
  },
  {
   "cell_type": "markdown",
   "id": "380d14da-2ed3-48c6-94da-729495b6f630",
   "metadata": {},
   "source": [
    "## Data cleanup and preparation for analysis"
   ]
  },
  {
   "cell_type": "markdown",
   "id": "07794867",
   "metadata": {},
   "source": [
    "In this section, we will clean and prepare the data for analysis by handling missing values, converting data types, and filtering the data as needed.\n"
   ]
  },
  {
   "cell_type": "markdown",
   "id": "7aa51a39-434b-4c96-9388-eff7ca25b15a",
   "metadata": {},
   "source": [
    "### Evaluate the datasets completeness in terms of number of rows and columns."
   ]
  },
  {
   "cell_type": "code",
   "execution_count": 34,
   "id": "e6a5d793-0742-4960-9418-963c4319924b",
   "metadata": {},
   "outputs": [
    {
     "name": "stdout",
     "output_type": "stream",
     "text": [
      "(1658, 4)\n",
      "(1826, 4)\n"
     ]
    }
   ],
   "source": [
    "print(df_seattle.shape)\n",
    "print(df_honolulu.shape)"
   ]
  },
  {
   "cell_type": "markdown",
   "id": "fa1a7051",
   "metadata": {},
   "source": [
    "Based on above we can see that honolulu has complete data for all dates (4*365+366=1826 days) whereas seattle has only 1658 days (1826-1658=168 days missing data)."
   ]
  },
  {
   "cell_type": "markdown",
   "id": "48a0093a",
   "metadata": {},
   "source": [
    "Plotting the data for Seattle to visualize any discrepancies."
   ]
  },
  {
   "cell_type": "code",
   "execution_count": 35,
   "id": "29cad2a4-e194-4ed5-8dfd-e887fa7e7fbf",
   "metadata": {},
   "outputs": [
    {
     "data": {
      "image/png": "[encoded data removed]",
      "text/plain": [
       "<Figure size 2000x500 with 1 Axes>"
      ]
     },
     "metadata": {},
     "output_type": "display_data"
    }
   ],
   "source": [
    "plt.figure(figsize=(20, 5))\n",
    "sns.lineplot(data=df_seattle, x='DATE', y='PRCP', label='Seattle')\n",
    "plt.xlabel('Date', fontsize=18)\n",
    "plt.ylabel('Precipitation (inches)', fontsize=18)\n",
    "plt.ylim(0, 3)\n",
    "plt.xticks(fontsize=15)\n",
    "plt.show()\n"
   ]
  },
  {
   "cell_type": "markdown",
   "id": "321e1d38",
   "metadata": {},
   "source": [
    "From plot we can notice diagonal line in the beginning of 2018 which indicates missing data for Seattle in this period. We can also see higher precipitation values during witnter months as expected."
   ]
  },
  {
   "cell_type": "code",
   "execution_count": 36,
   "id": "1ebc97c1-2a91-4360-9e0d-ad33424acb20",
   "metadata": {},
   "outputs": [
    {
     "data": {
      "image/png": "[encoded data removed]",
      "text/plain": [
       "<Figure size 2000x500 with 1 Axes>"
      ]
     },
     "metadata": {},
     "output_type": "display_data"
    }
   ],
   "source": [
    "plt.figure(figsize=(20, 5))\n",
    "sns.lineplot(data=df_honolulu, x='DATE', y='PRCP', label='Honolulu')\n",
    "plt.xlabel('Date',fontsize=18)\n",
    "plt.ylabel('Precipitation (inches)',fontsize=18)\n",
    "plt.ylim(0, 8)\n",
    "\n",
    "plt.xticks(fontsize=15)\n",
    "plt.show()\n"
   ]
  },
  {
   "cell_type": "markdown",
   "id": "3758793b",
   "metadata": {},
   "source": [
    "From above graph we can see that Honolulu has much lower precipitation values compared to Seattle with exceptions on occasional spikes.\n"
   ]
  },
  {
   "cell_type": "markdown",
   "id": "e70766c7",
   "metadata": {},
   "source": [
    "**Validate that both datasets use single station.**"
   ]
  },
  {
   "cell_type": "code",
   "execution_count": 37,
   "id": "7130f301-56f1-4089-9139-65f6153fe992",
   "metadata": {},
   "outputs": [
    {
     "data": {
      "text/plain": [
       "array(['US1WAKG0225'], dtype=object)"
      ]
     },
     "execution_count": 37,
     "metadata": {},
     "output_type": "execute_result"
    }
   ],
   "source": [
    "df_seattle['STATION'].unique()"
   ]
  },
  {
   "cell_type": "code",
   "execution_count": 38,
   "id": "87fe3924-f5dd-4498-a70b-6d463f37195c",
   "metadata": {},
   "outputs": [
    {
     "data": {
      "text/plain": [
       "array(['USW00022521'], dtype=object)"
      ]
     },
     "execution_count": 38,
     "metadata": {},
     "output_type": "execute_result"
    }
   ],
   "source": [
    "df_honolulu['STATION'].unique()"
   ]
  },
  {
   "cell_type": "code",
   "execution_count": 39,
   "id": "df4e761e-d372-4310-bf7f-e97f6c24ac00",
   "metadata": {},
   "outputs": [
    {
     "data": {
      "application/vnd.microsoft.datawrangler.viewer.v0+json": {
       "columns": [
        {
         "name": "index",
         "rawType": "int64",
         "type": "integer"
        },
        {
         "name": "STATION",
         "rawType": "object",
         "type": "string"
        },
        {
         "name": "NAME",
         "rawType": "object",
         "type": "string"
        },
        {
         "name": "DATE",
         "rawType": "datetime64[ns]",
         "type": "datetime"
        },
        {
         "name": "PRCP",
         "rawType": "float64",
         "type": "float"
        }
       ],
       "ref": "a203100b-b206-4935-877c-4bcef36aab4a",
       "rows": [
        [
         "1653",
         "US1WAKG0225",
         "SEATTLE 2.1 ESE, WA US",
         "2022-12-27 00:00:00",
         "0.78"
        ],
        [
         "1654",
         "US1WAKG0225",
         "SEATTLE 2.1 ESE, WA US",
         "2022-12-28 00:00:00",
         "0.4"
        ],
        [
         "1655",
         "US1WAKG0225",
         "SEATTLE 2.1 ESE, WA US",
         "2022-12-29 00:00:00",
         "0.03"
        ],
        [
         "1656",
         "US1WAKG0225",
         "SEATTLE 2.1 ESE, WA US",
         "2022-12-30 00:00:00",
         "0.62"
        ],
        [
         "1657",
         "US1WAKG0225",
         "SEATTLE 2.1 ESE, WA US",
         "2022-12-31 00:00:00",
         "0.17"
        ]
       ],
       "shape": {
        "columns": 4,
        "rows": 5
       }
      },
      "text/html": [
       "<div>\n",
       "<style scoped>\n",
       "    .dataframe tbody tr th:only-of-type {\n",
       "        vertical-align: middle;\n",
       "    }\n",
       "\n",
       "    .dataframe tbody tr th {\n",
       "        vertical-align: top;\n",
       "    }\n",
       "\n",
       "    .dataframe thead th {\n",
       "        text-align: right;\n",
       "    }\n",
       "</style>\n",
       "<table border=\"1\" class=\"dataframe\">\n",
       "  <thead>\n",
       "    <tr style=\"text-align: right;\">\n",
       "      <th></th>\n",
       "      <th>STATION</th>\n",
       "      <th>NAME</th>\n",
       "      <th>DATE</th>\n",
       "      <th>PRCP</th>\n",
       "    </tr>\n",
       "  </thead>\n",
       "  <tbody>\n",
       "    <tr>\n",
       "      <th>1653</th>\n",
       "      <td>US1WAKG0225</td>\n",
       "      <td>SEATTLE 2.1 ESE, WA US</td>\n",
       "      <td>2022-12-27</td>\n",
       "      <td>0.78</td>\n",
       "    </tr>\n",
       "    <tr>\n",
       "      <th>1654</th>\n",
       "      <td>US1WAKG0225</td>\n",
       "      <td>SEATTLE 2.1 ESE, WA US</td>\n",
       "      <td>2022-12-28</td>\n",
       "      <td>0.40</td>\n",
       "    </tr>\n",
       "    <tr>\n",
       "      <th>1655</th>\n",
       "      <td>US1WAKG0225</td>\n",
       "      <td>SEATTLE 2.1 ESE, WA US</td>\n",
       "      <td>2022-12-29</td>\n",
       "      <td>0.03</td>\n",
       "    </tr>\n",
       "    <tr>\n",
       "      <th>1656</th>\n",
       "      <td>US1WAKG0225</td>\n",
       "      <td>SEATTLE 2.1 ESE, WA US</td>\n",
       "      <td>2022-12-30</td>\n",
       "      <td>0.62</td>\n",
       "    </tr>\n",
       "    <tr>\n",
       "      <th>1657</th>\n",
       "      <td>US1WAKG0225</td>\n",
       "      <td>SEATTLE 2.1 ESE, WA US</td>\n",
       "      <td>2022-12-31</td>\n",
       "      <td>0.17</td>\n",
       "    </tr>\n",
       "  </tbody>\n",
       "</table>\n",
       "</div>"
      ],
      "text/plain": [
       "          STATION                    NAME       DATE  PRCP\n",
       "1653  US1WAKG0225  SEATTLE 2.1 ESE, WA US 2022-12-27  0.78\n",
       "1654  US1WAKG0225  SEATTLE 2.1 ESE, WA US 2022-12-28  0.40\n",
       "1655  US1WAKG0225  SEATTLE 2.1 ESE, WA US 2022-12-29  0.03\n",
       "1656  US1WAKG0225  SEATTLE 2.1 ESE, WA US 2022-12-30  0.62\n",
       "1657  US1WAKG0225  SEATTLE 2.1 ESE, WA US 2022-12-31  0.17"
      ]
     },
     "execution_count": 39,
     "metadata": {},
     "output_type": "execute_result"
    }
   ],
   "source": [
    "df_seattle.tail()\n"
   ]
  },
  {
   "cell_type": "code",
   "execution_count": 40,
   "id": "053e6c00-6090-47f4-a56d-daaf36fb1e02",
   "metadata": {},
   "outputs": [
    {
     "data": {
      "application/vnd.microsoft.datawrangler.viewer.v0+json": {
       "columns": [
        {
         "name": "index",
         "rawType": "int64",
         "type": "integer"
        },
        {
         "name": "STATION",
         "rawType": "object",
         "type": "string"
        },
        {
         "name": "NAME",
         "rawType": "object",
         "type": "string"
        },
        {
         "name": "DATE",
         "rawType": "datetime64[ns]",
         "type": "datetime"
        },
        {
         "name": "PRCP",
         "rawType": "float64",
         "type": "float"
        }
       ],
       "ref": "4d0a0a8b-6eba-48cb-80d5-247c1485d046",
       "rows": [
        [
         "1821",
         "USW00022521",
         "HONOLULU INTERNATIONAL AIRPORT, HI US",
         "2022-12-27 00:00:00",
         "0.0"
        ],
        [
         "1822",
         "USW00022521",
         "HONOLULU INTERNATIONAL AIRPORT, HI US",
         "2022-12-28 00:00:00",
         "0.0"
        ],
        [
         "1823",
         "USW00022521",
         "HONOLULU INTERNATIONAL AIRPORT, HI US",
         "2022-12-29 00:00:00",
         "0.0"
        ],
        [
         "1824",
         "USW00022521",
         "HONOLULU INTERNATIONAL AIRPORT, HI US",
         "2022-12-30 00:00:00",
         "0.0"
        ],
        [
         "1825",
         "USW00022521",
         "HONOLULU INTERNATIONAL AIRPORT, HI US",
         "2022-12-31 00:00:00",
         "0.0"
        ]
       ],
       "shape": {
        "columns": 4,
        "rows": 5
       }
      },
      "text/html": [
       "<div>\n",
       "<style scoped>\n",
       "    .dataframe tbody tr th:only-of-type {\n",
       "        vertical-align: middle;\n",
       "    }\n",
       "\n",
       "    .dataframe tbody tr th {\n",
       "        vertical-align: top;\n",
       "    }\n",
       "\n",
       "    .dataframe thead th {\n",
       "        text-align: right;\n",
       "    }\n",
       "</style>\n",
       "<table border=\"1\" class=\"dataframe\">\n",
       "  <thead>\n",
       "    <tr style=\"text-align: right;\">\n",
       "      <th></th>\n",
       "      <th>STATION</th>\n",
       "      <th>NAME</th>\n",
       "      <th>DATE</th>\n",
       "      <th>PRCP</th>\n",
       "    </tr>\n",
       "  </thead>\n",
       "  <tbody>\n",
       "    <tr>\n",
       "      <th>1821</th>\n",
       "      <td>USW00022521</td>\n",
       "      <td>HONOLULU INTERNATIONAL AIRPORT, HI US</td>\n",
       "      <td>2022-12-27</td>\n",
       "      <td>0.0</td>\n",
       "    </tr>\n",
       "    <tr>\n",
       "      <th>1822</th>\n",
       "      <td>USW00022521</td>\n",
       "      <td>HONOLULU INTERNATIONAL AIRPORT, HI US</td>\n",
       "      <td>2022-12-28</td>\n",
       "      <td>0.0</td>\n",
       "    </tr>\n",
       "    <tr>\n",
       "      <th>1823</th>\n",
       "      <td>USW00022521</td>\n",
       "      <td>HONOLULU INTERNATIONAL AIRPORT, HI US</td>\n",
       "      <td>2022-12-29</td>\n",
       "      <td>0.0</td>\n",
       "    </tr>\n",
       "    <tr>\n",
       "      <th>1824</th>\n",
       "      <td>USW00022521</td>\n",
       "      <td>HONOLULU INTERNATIONAL AIRPORT, HI US</td>\n",
       "      <td>2022-12-30</td>\n",
       "      <td>0.0</td>\n",
       "    </tr>\n",
       "    <tr>\n",
       "      <th>1825</th>\n",
       "      <td>USW00022521</td>\n",
       "      <td>HONOLULU INTERNATIONAL AIRPORT, HI US</td>\n",
       "      <td>2022-12-31</td>\n",
       "      <td>0.0</td>\n",
       "    </tr>\n",
       "  </tbody>\n",
       "</table>\n",
       "</div>"
      ],
      "text/plain": [
       "          STATION                                   NAME       DATE  PRCP\n",
       "1821  USW00022521  HONOLULU INTERNATIONAL AIRPORT, HI US 2022-12-27   0.0\n",
       "1822  USW00022521  HONOLULU INTERNATIONAL AIRPORT, HI US 2022-12-28   0.0\n",
       "1823  USW00022521  HONOLULU INTERNATIONAL AIRPORT, HI US 2022-12-29   0.0\n",
       "1824  USW00022521  HONOLULU INTERNATIONAL AIRPORT, HI US 2022-12-30   0.0\n",
       "1825  USW00022521  HONOLULU INTERNATIONAL AIRPORT, HI US 2022-12-31   0.0"
      ]
     },
     "execution_count": 40,
     "metadata": {},
     "output_type": "execute_result"
    }
   ],
   "source": [
    "df_honolulu.tail()"
   ]
  },
  {
   "cell_type": "markdown",
   "id": "6b959754-8d82-476e-ba74-a5cfdad07203",
   "metadata": {},
   "source": [
    "From analysis of the data:\n",
    "-   [x] Validate date ranges  (2018-01-01-2022-12-31) \n",
    "-   [x] One station is used in Seattle and Honolulu\n",
    "Issues found:\n",
    "-   [x] Dates require consitent format"
   ]
  },
  {
   "cell_type": "markdown",
   "id": "1cd4fcbd",
   "metadata": {},
   "source": [
    "### Unify date formats"
   ]
  },
  {
   "cell_type": "code",
   "execution_count": null,
   "id": "b6a95e47",
   "metadata": {},
   "outputs": [],
   "source": [
    "df_seattle['DATE'] = pd.to_datetime(df_seattle['DATE'])\n",
    "df_honolulu['DATE'] = pd.to_datetime(df_honolulu['DATE'])\n"
   ]
  },
  {
   "cell_type": "code",
   "execution_count": 42,
   "id": "a325c408",
   "metadata": {},
   "outputs": [
    {
     "data": {
      "application/vnd.microsoft.datawrangler.viewer.v0+json": {
       "columns": [
        {
         "name": "index",
         "rawType": "int64",
         "type": "integer"
        },
        {
         "name": "STATION",
         "rawType": "object",
         "type": "string"
        },
        {
         "name": "NAME",
         "rawType": "object",
         "type": "string"
        },
        {
         "name": "DATE",
         "rawType": "datetime64[ns]",
         "type": "datetime"
        },
        {
         "name": "PRCP",
         "rawType": "float64",
         "type": "float"
        }
       ],
       "ref": "872ff599-0321-4eee-80aa-229bfa915c5b",
       "rows": [
        [
         "0",
         "US1WAKG0225",
         "SEATTLE 2.1 ESE, WA US",
         "2018-01-01 00:00:00",
         "0.0"
        ],
        [
         "1",
         "US1WAKG0225",
         "SEATTLE 2.1 ESE, WA US",
         "2018-01-02 00:00:00",
         "0.0"
        ],
        [
         "2",
         "US1WAKG0225",
         "SEATTLE 2.1 ESE, WA US",
         "2018-01-03 00:00:00",
         "0.0"
        ],
        [
         "3",
         "US1WAKG0225",
         "SEATTLE 2.1 ESE, WA US",
         "2018-01-04 00:00:00",
         "0.0"
        ],
        [
         "4",
         "US1WAKG0225",
         "SEATTLE 2.1 ESE, WA US",
         "2018-01-05 00:00:00",
         "0.25"
        ]
       ],
       "shape": {
        "columns": 4,
        "rows": 5
       }
      },
      "text/html": [
       "<div>\n",
       "<style scoped>\n",
       "    .dataframe tbody tr th:only-of-type {\n",
       "        vertical-align: middle;\n",
       "    }\n",
       "\n",
       "    .dataframe tbody tr th {\n",
       "        vertical-align: top;\n",
       "    }\n",
       "\n",
       "    .dataframe thead th {\n",
       "        text-align: right;\n",
       "    }\n",
       "</style>\n",
       "<table border=\"1\" class=\"dataframe\">\n",
       "  <thead>\n",
       "    <tr style=\"text-align: right;\">\n",
       "      <th></th>\n",
       "      <th>STATION</th>\n",
       "      <th>NAME</th>\n",
       "      <th>DATE</th>\n",
       "      <th>PRCP</th>\n",
       "    </tr>\n",
       "  </thead>\n",
       "  <tbody>\n",
       "    <tr>\n",
       "      <th>0</th>\n",
       "      <td>US1WAKG0225</td>\n",
       "      <td>SEATTLE 2.1 ESE, WA US</td>\n",
       "      <td>2018-01-01</td>\n",
       "      <td>0.00</td>\n",
       "    </tr>\n",
       "    <tr>\n",
       "      <th>1</th>\n",
       "      <td>US1WAKG0225</td>\n",
       "      <td>SEATTLE 2.1 ESE, WA US</td>\n",
       "      <td>2018-01-02</td>\n",
       "      <td>0.00</td>\n",
       "    </tr>\n",
       "    <tr>\n",
       "      <th>2</th>\n",
       "      <td>US1WAKG0225</td>\n",
       "      <td>SEATTLE 2.1 ESE, WA US</td>\n",
       "      <td>2018-01-03</td>\n",
       "      <td>0.00</td>\n",
       "    </tr>\n",
       "    <tr>\n",
       "      <th>3</th>\n",
       "      <td>US1WAKG0225</td>\n",
       "      <td>SEATTLE 2.1 ESE, WA US</td>\n",
       "      <td>2018-01-04</td>\n",
       "      <td>0.00</td>\n",
       "    </tr>\n",
       "    <tr>\n",
       "      <th>4</th>\n",
       "      <td>US1WAKG0225</td>\n",
       "      <td>SEATTLE 2.1 ESE, WA US</td>\n",
       "      <td>2018-01-05</td>\n",
       "      <td>0.25</td>\n",
       "    </tr>\n",
       "  </tbody>\n",
       "</table>\n",
       "</div>"
      ],
      "text/plain": [
       "       STATION                    NAME       DATE  PRCP\n",
       "0  US1WAKG0225  SEATTLE 2.1 ESE, WA US 2018-01-01  0.00\n",
       "1  US1WAKG0225  SEATTLE 2.1 ESE, WA US 2018-01-02  0.00\n",
       "2  US1WAKG0225  SEATTLE 2.1 ESE, WA US 2018-01-03  0.00\n",
       "3  US1WAKG0225  SEATTLE 2.1 ESE, WA US 2018-01-04  0.00\n",
       "4  US1WAKG0225  SEATTLE 2.1 ESE, WA US 2018-01-05  0.25"
      ]
     },
     "metadata": {},
     "output_type": "display_data"
    }
   ],
   "source": [
    "display(df_seattle.head())"
   ]
  },
  {
   "cell_type": "code",
   "execution_count": 43,
   "id": "bb3206f5",
   "metadata": {},
   "outputs": [
    {
     "data": {
      "application/vnd.microsoft.datawrangler.viewer.v0+json": {
       "columns": [
        {
         "name": "index",
         "rawType": "int64",
         "type": "integer"
        },
        {
         "name": "STATION",
         "rawType": "object",
         "type": "string"
        },
        {
         "name": "NAME",
         "rawType": "object",
         "type": "string"
        },
        {
         "name": "DATE",
         "rawType": "datetime64[ns]",
         "type": "datetime"
        },
        {
         "name": "PRCP",
         "rawType": "float64",
         "type": "float"
        }
       ],
       "ref": "d7599407-3761-4387-92ce-219b6dec4080",
       "rows": [
        [
         "0",
         "USW00022521",
         "HONOLULU INTERNATIONAL AIRPORT, HI US",
         "2018-01-01 00:00:00",
         "0.0"
        ],
        [
         "1",
         "USW00022521",
         "HONOLULU INTERNATIONAL AIRPORT, HI US",
         "2018-01-02 00:00:00",
         "0.0"
        ],
        [
         "2",
         "USW00022521",
         "HONOLULU INTERNATIONAL AIRPORT, HI US",
         "2018-01-03 00:00:00",
         "0.0"
        ],
        [
         "3",
         "USW00022521",
         "HONOLULU INTERNATIONAL AIRPORT, HI US",
         "2018-01-04 00:00:00",
         "0.0"
        ],
        [
         "4",
         "USW00022521",
         "HONOLULU INTERNATIONAL AIRPORT, HI US",
         "2018-01-05 00:00:00",
         "0.0"
        ]
       ],
       "shape": {
        "columns": 4,
        "rows": 5
       }
      },
      "text/html": [
       "<div>\n",
       "<style scoped>\n",
       "    .dataframe tbody tr th:only-of-type {\n",
       "        vertical-align: middle;\n",
       "    }\n",
       "\n",
       "    .dataframe tbody tr th {\n",
       "        vertical-align: top;\n",
       "    }\n",
       "\n",
       "    .dataframe thead th {\n",
       "        text-align: right;\n",
       "    }\n",
       "</style>\n",
       "<table border=\"1\" class=\"dataframe\">\n",
       "  <thead>\n",
       "    <tr style=\"text-align: right;\">\n",
       "      <th></th>\n",
       "      <th>STATION</th>\n",
       "      <th>NAME</th>\n",
       "      <th>DATE</th>\n",
       "      <th>PRCP</th>\n",
       "    </tr>\n",
       "  </thead>\n",
       "  <tbody>\n",
       "    <tr>\n",
       "      <th>0</th>\n",
       "      <td>USW00022521</td>\n",
       "      <td>HONOLULU INTERNATIONAL AIRPORT, HI US</td>\n",
       "      <td>2018-01-01</td>\n",
       "      <td>0.0</td>\n",
       "    </tr>\n",
       "    <tr>\n",
       "      <th>1</th>\n",
       "      <td>USW00022521</td>\n",
       "      <td>HONOLULU INTERNATIONAL AIRPORT, HI US</td>\n",
       "      <td>2018-01-02</td>\n",
       "      <td>0.0</td>\n",
       "    </tr>\n",
       "    <tr>\n",
       "      <th>2</th>\n",
       "      <td>USW00022521</td>\n",
       "      <td>HONOLULU INTERNATIONAL AIRPORT, HI US</td>\n",
       "      <td>2018-01-03</td>\n",
       "      <td>0.0</td>\n",
       "    </tr>\n",
       "    <tr>\n",
       "      <th>3</th>\n",
       "      <td>USW00022521</td>\n",
       "      <td>HONOLULU INTERNATIONAL AIRPORT, HI US</td>\n",
       "      <td>2018-01-04</td>\n",
       "      <td>0.0</td>\n",
       "    </tr>\n",
       "    <tr>\n",
       "      <th>4</th>\n",
       "      <td>USW00022521</td>\n",
       "      <td>HONOLULU INTERNATIONAL AIRPORT, HI US</td>\n",
       "      <td>2018-01-05</td>\n",
       "      <td>0.0</td>\n",
       "    </tr>\n",
       "  </tbody>\n",
       "</table>\n",
       "</div>"
      ],
      "text/plain": [
       "       STATION                                   NAME       DATE  PRCP\n",
       "0  USW00022521  HONOLULU INTERNATIONAL AIRPORT, HI US 2018-01-01   0.0\n",
       "1  USW00022521  HONOLULU INTERNATIONAL AIRPORT, HI US 2018-01-02   0.0\n",
       "2  USW00022521  HONOLULU INTERNATIONAL AIRPORT, HI US 2018-01-03   0.0\n",
       "3  USW00022521  HONOLULU INTERNATIONAL AIRPORT, HI US 2018-01-04   0.0\n",
       "4  USW00022521  HONOLULU INTERNATIONAL AIRPORT, HI US 2018-01-05   0.0"
      ]
     },
     "metadata": {},
     "output_type": "display_data"
    }
   ],
   "source": [
    "display(df_honolulu.head())"
   ]
  },
  {
   "cell_type": "markdown",
   "id": "a8f0112d",
   "metadata": {},
   "source": [
    "### Merge weather data into single data frame and normalize data frame structure\n"
   ]
  },
  {
   "cell_type": "code",
   "execution_count": 44,
   "id": "023404e3",
   "metadata": {},
   "outputs": [
    {
     "data": {
      "application/vnd.microsoft.datawrangler.viewer.v0+json": {
       "columns": [
        {
         "name": "index",
         "rawType": "int64",
         "type": "integer"
        },
        {
         "name": "date",
         "rawType": "datetime64[ns]",
         "type": "datetime"
        },
        {
         "name": "city",
         "rawType": "object",
         "type": "string"
        },
        {
         "name": "precipitation",
         "rawType": "float64",
         "type": "float"
        }
       ],
       "ref": "0ff6f352-69d0-4d73-baa3-0f1444b83369",
       "rows": [
        [
         "0",
         "2018-01-01 00:00:00",
         "Seattle",
         "0.0"
        ],
        [
         "1",
         "2018-01-02 00:00:00",
         "Seattle",
         "0.0"
        ],
        [
         "2",
         "2018-01-03 00:00:00",
         "Seattle",
         "0.0"
        ],
        [
         "3",
         "2018-01-04 00:00:00",
         "Seattle",
         "0.0"
        ],
        [
         "4",
         "2018-01-05 00:00:00",
         "Seattle",
         "0.25"
        ],
        [
         "5",
         "2018-01-06 00:00:00",
         "Seattle",
         "0.57"
        ],
        [
         "6",
         "2018-01-07 00:00:00",
         "Seattle",
         "0.23"
        ],
        [
         "7",
         "2018-01-08 00:00:00",
         "Seattle",
         "0.41"
        ],
        [
         "8",
         "2018-01-09 00:00:00",
         "Seattle",
         null
        ],
        [
         "9",
         "2018-01-10 00:00:00",
         "Seattle",
         null
        ],
        [
         "10",
         "2018-01-11 00:00:00",
         "Seattle",
         null
        ],
        [
         "11",
         "2018-01-12 00:00:00",
         "Seattle",
         null
        ],
        [
         "12",
         "2018-01-13 00:00:00",
         "Seattle",
         null
        ],
        [
         "13",
         "2018-01-14 00:00:00",
         "Seattle",
         null
        ],
        [
         "14",
         "2018-01-15 00:00:00",
         "Seattle",
         null
        ],
        [
         "15",
         "2018-01-16 00:00:00",
         "Seattle",
         null
        ],
        [
         "16",
         "2018-01-17 00:00:00",
         "Seattle",
         null
        ],
        [
         "17",
         "2018-01-18 00:00:00",
         "Seattle",
         null
        ],
        [
         "18",
         "2018-01-19 00:00:00",
         "Seattle",
         null
        ],
        [
         "19",
         "2018-01-20 00:00:00",
         "Seattle",
         null
        ],
        [
         "20",
         "2018-01-21 00:00:00",
         "Seattle",
         null
        ],
        [
         "21",
         "2018-01-22 00:00:00",
         "Seattle",
         null
        ],
        [
         "22",
         "2018-01-23 00:00:00",
         "Seattle",
         null
        ],
        [
         "23",
         "2018-01-24 00:00:00",
         "Seattle",
         null
        ],
        [
         "24",
         "2018-01-25 00:00:00",
         "Seattle",
         null
        ],
        [
         "25",
         "2018-01-26 00:00:00",
         "Seattle",
         null
        ],
        [
         "26",
         "2018-01-27 00:00:00",
         "Seattle",
         null
        ],
        [
         "27",
         "2018-01-28 00:00:00",
         "Seattle",
         null
        ],
        [
         "28",
         "2018-01-29 00:00:00",
         "Seattle",
         null
        ],
        [
         "29",
         "2018-01-30 00:00:00",
         "Seattle",
         null
        ],
        [
         "30",
         "2018-01-31 00:00:00",
         "Seattle",
         null
        ],
        [
         "31",
         "2018-02-01 00:00:00",
         "Seattle",
         null
        ],
        [
         "32",
         "2018-02-02 00:00:00",
         "Seattle",
         null
        ],
        [
         "33",
         "2018-02-03 00:00:00",
         "Seattle",
         null
        ],
        [
         "34",
         "2018-02-04 00:00:00",
         "Seattle",
         null
        ],
        [
         "35",
         "2018-02-05 00:00:00",
         "Seattle",
         null
        ],
        [
         "36",
         "2018-02-06 00:00:00",
         "Seattle",
         null
        ],
        [
         "37",
         "2018-02-07 00:00:00",
         "Seattle",
         null
        ],
        [
         "38",
         "2018-02-08 00:00:00",
         "Seattle",
         null
        ],
        [
         "39",
         "2018-02-09 00:00:00",
         "Seattle",
         null
        ],
        [
         "40",
         "2018-02-10 00:00:00",
         "Seattle",
         null
        ],
        [
         "41",
         "2018-02-11 00:00:00",
         "Seattle",
         null
        ],
        [
         "42",
         "2018-02-12 00:00:00",
         "Seattle",
         null
        ],
        [
         "43",
         "2018-02-13 00:00:00",
         "Seattle",
         null
        ],
        [
         "44",
         "2018-02-14 00:00:00",
         "Seattle",
         null
        ],
        [
         "45",
         "2018-02-15 00:00:00",
         "Seattle",
         null
        ],
        [
         "46",
         "2018-02-16 00:00:00",
         "Seattle",
         null
        ],
        [
         "47",
         "2018-02-17 00:00:00",
         "Seattle",
         null
        ],
        [
         "48",
         "2018-02-18 00:00:00",
         "Seattle",
         null
        ],
        [
         "49",
         "2018-02-19 00:00:00",
         "Seattle",
         null
        ]
       ],
       "shape": {
        "columns": 3,
        "rows": 3652
       }
      },
      "text/html": [
       "<div>\n",
       "<style scoped>\n",
       "    .dataframe tbody tr th:only-of-type {\n",
       "        vertical-align: middle;\n",
       "    }\n",
       "\n",
       "    .dataframe tbody tr th {\n",
       "        vertical-align: top;\n",
       "    }\n",
       "\n",
       "    .dataframe thead th {\n",
       "        text-align: right;\n",
       "    }\n",
       "</style>\n",
       "<table border=\"1\" class=\"dataframe\">\n",
       "  <thead>\n",
       "    <tr style=\"text-align: right;\">\n",
       "      <th></th>\n",
       "      <th>date</th>\n",
       "      <th>city</th>\n",
       "      <th>precipitation</th>\n",
       "    </tr>\n",
       "  </thead>\n",
       "  <tbody>\n",
       "    <tr>\n",
       "      <th>0</th>\n",
       "      <td>2018-01-01</td>\n",
       "      <td>Seattle</td>\n",
       "      <td>0.00</td>\n",
       "    </tr>\n",
       "    <tr>\n",
       "      <th>1</th>\n",
       "      <td>2018-01-02</td>\n",
       "      <td>Seattle</td>\n",
       "      <td>0.00</td>\n",
       "    </tr>\n",
       "    <tr>\n",
       "      <th>2</th>\n",
       "      <td>2018-01-03</td>\n",
       "      <td>Seattle</td>\n",
       "      <td>0.00</td>\n",
       "    </tr>\n",
       "    <tr>\n",
       "      <th>3</th>\n",
       "      <td>2018-01-04</td>\n",
       "      <td>Seattle</td>\n",
       "      <td>0.00</td>\n",
       "    </tr>\n",
       "    <tr>\n",
       "      <th>4</th>\n",
       "      <td>2018-01-05</td>\n",
       "      <td>Seattle</td>\n",
       "      <td>0.25</td>\n",
       "    </tr>\n",
       "    <tr>\n",
       "      <th>...</th>\n",
       "      <td>...</td>\n",
       "      <td>...</td>\n",
       "      <td>...</td>\n",
       "    </tr>\n",
       "    <tr>\n",
       "      <th>3647</th>\n",
       "      <td>2022-12-27</td>\n",
       "      <td>Honolulu</td>\n",
       "      <td>0.00</td>\n",
       "    </tr>\n",
       "    <tr>\n",
       "      <th>3648</th>\n",
       "      <td>2022-12-28</td>\n",
       "      <td>Honolulu</td>\n",
       "      <td>0.00</td>\n",
       "    </tr>\n",
       "    <tr>\n",
       "      <th>3649</th>\n",
       "      <td>2022-12-29</td>\n",
       "      <td>Honolulu</td>\n",
       "      <td>0.00</td>\n",
       "    </tr>\n",
       "    <tr>\n",
       "      <th>3650</th>\n",
       "      <td>2022-12-30</td>\n",
       "      <td>Honolulu</td>\n",
       "      <td>0.00</td>\n",
       "    </tr>\n",
       "    <tr>\n",
       "      <th>3651</th>\n",
       "      <td>2022-12-31</td>\n",
       "      <td>Honolulu</td>\n",
       "      <td>0.00</td>\n",
       "    </tr>\n",
       "  </tbody>\n",
       "</table>\n",
       "<p>3652 rows × 3 columns</p>\n",
       "</div>"
      ],
      "text/plain": [
       "           date      city  precipitation\n",
       "0    2018-01-01   Seattle           0.00\n",
       "1    2018-01-02   Seattle           0.00\n",
       "2    2018-01-03   Seattle           0.00\n",
       "3    2018-01-04   Seattle           0.00\n",
       "4    2018-01-05   Seattle           0.25\n",
       "...         ...       ...            ...\n",
       "3647 2022-12-27  Honolulu           0.00\n",
       "3648 2022-12-28  Honolulu           0.00\n",
       "3649 2022-12-29  Honolulu           0.00\n",
       "3650 2022-12-30  Honolulu           0.00\n",
       "3651 2022-12-31  Honolulu           0.00\n",
       "\n",
       "[3652 rows x 3 columns]"
      ]
     },
     "execution_count": 44,
     "metadata": {},
     "output_type": "execute_result"
    }
   ],
   "source": [
    "df_stl_hnl = df_seattle[['DATE','PRCP']].merge(df_honolulu[['DATE','PRCP']], on='DATE',how='outer')\n",
    "\n",
    "# Tidy data frame to columns: date, precipitation, city\n",
    "df_stl_hnl = df_stl_hnl.melt(id_vars=['DATE'], var_name='city', value_name='precipitation') \n",
    "df_stl_hnl['city'] = df_stl_hnl['city'].map({'PRCP_x': 'Seattle', 'PRCP_y': 'Honolulu'})\n",
    "df_stl_hnl = df_stl_hnl.rename(columns={'DATE': 'date'})\n",
    "#df_stl_hnl = df_stl_hnl.sort_values(by=['date','city']).reset_index(drop=True)\n",
    "df_stl_hnl\n",
    "                               "
   ]
  },
  {
   "cell_type": "markdown",
   "id": "d6f04bf7",
   "metadata": {},
   "source": [
    "### Evaluate missing precipatation values and handle them appropriately"
   ]
  },
  {
   "cell_type": "code",
   "execution_count": 69,
   "id": "5e3b32ad",
   "metadata": {},
   "outputs": [
    {
     "data": {
      "text/plain": [
       "np.int64(0)"
      ]
     },
     "execution_count": 69,
     "metadata": {},
     "output_type": "execute_result"
    }
   ],
   "source": [
    "df_stl_hnl.loc[df_stl_hnl['city']=='Seattle','precipitation'].isna().sum()"
   ]
  },
  {
   "cell_type": "code",
   "execution_count": 70,
   "id": "4a87bd10",
   "metadata": {},
   "outputs": [
    {
     "data": {
      "text/plain": [
       "np.int64(0)"
      ]
     },
     "execution_count": 70,
     "metadata": {},
     "output_type": "execute_result"
    }
   ],
   "source": [
    "df_stl_hnl.loc[df_stl_hnl['city']=='Honolulu','precipitation'].isna().sum() "
   ]
  },
  {
   "cell_type": "markdown",
   "id": "725bc84d",
   "metadata": {},
   "source": [
    "Based on above we can see that Seattle has missing precipitation values for 190 days whereas Honolulu has complete data for all dates."
   ]
  },
  {
   "cell_type": "markdown",
   "id": "10432eae",
   "metadata": {},
   "source": [
    "#### Impute precipitation values for Seattle with average across years for that day"
   ]
  },
  {
   "cell_type": "code",
   "execution_count": 72,
   "id": "96c1176d",
   "metadata": {},
   "outputs": [
    {
     "data": {
      "text/plain": [
       "np.int64(0)"
      ]
     },
     "execution_count": 72,
     "metadata": {},
     "output_type": "execute_result"
    }
   ],
   "source": [
    "# Add day of year column\n",
    "df_stl_hnl['day_of_year'] = pd.DatetimeIndex(df_stl_hnl['date']).dayofyear\n",
    "\n",
    "# Calculate average precipitation for each day of the year for Seattle (only Seattle has missing data)\n",
    "mean_precip_seattle = df_stl_hnl.loc[df_stl_hnl['city']=='Seattle',['precipitation','day_of_year']].groupby('day_of_year').mean()\n",
    "indicies = np.where((df_stl_hnl['city']=='Seattle') & (df_stl_hnl['precipitation'].isna()==True))[0]\n",
    "#indicies\n",
    "for i in indicies:\n",
    "    day_of_year = df_stl_hnl.loc[i,'day_of_year']\n",
    "    df_stl_hnl.loc[i,'precipitation'] = mean_precip_seattle.loc[day_of_year,'precipitation']\n",
    "df_stl_hnl['precipitation'].isna().sum()\n",
    "\n"
   ]
  },
  {
   "cell_type": "markdown",
   "id": "45c60913",
   "metadata": {},
   "source": [
    "### Save cleaned data as CSV file for further analysis"
   ]
  },
  {
   "cell_type": "code",
   "execution_count": 68,
   "id": "195a1863",
   "metadata": {},
   "outputs": [],
   "source": [
    "## Export preprocessed data to csv file\n",
    "df_stl_hnl.to_csv('../data/seattle_honolulu_rain_clean.csv', index=False)"
   ]
  },
  {
   "cell_type": "code",
   "execution_count": null,
   "id": "6937e9fb",
   "metadata": {},
   "outputs": [],
   "source": []
  }
 ],
 "metadata": {
  "kernelspec": {
   "display_name": "base",
   "language": "python",
   "name": "python3"
  },
  "language_info": {
   "codemirror_mode": {
    "name": "ipython",
    "version": 3
   },
   "file_extension": ".py",
   "mimetype": "text/x-python",
   "name": "python",
   "nbconvert_exporter": "python",
   "pygments_lexer": "ipython3",
   "version": "3.13.5"
  },
  "panel-cell-order": [
   "feb020d4-405c-46b9-b9aa-5d8115646228",
   "faac13b6",
   "35840f42-5dcd-49fa-97b5-b4a0bfcf7f42"
  ]
 },
 "nbformat": 4,
 "nbformat_minor": 5
}
